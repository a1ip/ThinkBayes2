{
 "cells": [
  {
   "cell_type": "markdown",
   "metadata": {},
   "source": [
    "# Think Bayes\n",
    "\n",
    "Second Edition\n",
    "\n",
    "Copyright 2020 Allen B. Downey\n",
    "\n",
    "License: [Attribution-NonCommercial-ShareAlike 4.0 International (CC BY-NC-SA 4.0)](https://creativecommons.org/licenses/by-nc-sa/4.0/)"
   ]
  },
  {
   "cell_type": "code",
   "execution_count": 1,
   "metadata": {},
   "outputs": [],
   "source": [
    "# If we're running on Colab, install empiricaldist\n",
    "# https://pypi.org/project/empiricaldist/\n",
    "\n",
    "import sys\n",
    "IN_COLAB = 'google.colab' in sys.modules\n",
    "\n",
    "if IN_COLAB:\n",
    "    !pip install empiricaldist"
   ]
  },
  {
   "cell_type": "code",
   "execution_count": 2,
   "metadata": {},
   "outputs": [],
   "source": [
    "# Get utils.py and create directories\n",
    "\n",
    "import os\n",
    "\n",
    "if not os.path.exists('utils.py'):\n",
    "    !wget https://github.com/AllenDowney/ThinkBayes2/raw/master/soln/utils.py\n",
    "        \n",
    "if not os.path.exists('figs'):\n",
    "    !mkdir figs"
   ]
  },
  {
   "cell_type": "code",
   "execution_count": 3,
   "metadata": {},
   "outputs": [],
   "source": [
    "import numpy as np\n",
    "import pandas as pd\n",
    "import matplotlib.pyplot as plt\n",
    "\n",
    "from empiricaldist import Pmf, Cdf\n",
    "from utils import decorate, savefig"
   ]
  },
  {
   "cell_type": "markdown",
   "metadata": {},
   "source": [
    "## Univariate normal\n"
   ]
  },
  {
   "cell_type": "markdown",
   "metadata": {},
   "source": [
    "## Generate data"
   ]
  },
  {
   "cell_type": "code",
   "execution_count": 4,
   "metadata": {},
   "outputs": [
    {
     "data": {
      "text/plain": [
       "array([ 9.15374248,  8.91288349, 11.51425676,  8.37318347,  7.94366468,\n",
       "        9.83403811, 12.24263023,  8.44168055,  9.70091494, 11.42222547,\n",
       "        9.01440966, 11.62249487,  5.7248653 ,  9.15080578,  9.81073088,\n",
       "        7.42425323,  7.4592936 , 13.05732897, 13.72133087, 11.3636044 ])"
      ]
     },
     "execution_count": 4,
     "metadata": {},
     "output_type": "execute_result"
    }
   ],
   "source": [
    "from scipy.stats import norm\n",
    "\n",
    "data = norm(10, 2).rvs(20)\n",
    "data"
   ]
  },
  {
   "cell_type": "code",
   "execution_count": 5,
   "metadata": {},
   "outputs": [
    {
     "data": {
      "text/plain": [
       "(20, 9.794416886805474, 4.030021306652072)"
      ]
     },
     "execution_count": 5,
     "metadata": {},
     "output_type": "execute_result"
    }
   ],
   "source": [
    "n = len(data)\n",
    "xbar = np.mean(data)\n",
    "s2 = np.var(data)\n",
    "\n",
    "n, xbar, s2"
   ]
  },
  {
   "cell_type": "markdown",
   "metadata": {},
   "source": [
    "## Update\n",
    "\n",
    "Mostly following notation in Murphy, [Conjugate Bayesian analysis of the Gaussian distribution](https://www.cs.ubc.ca/~murphyk/Papers/bayesGauss.pdf)"
   ]
  },
  {
   "cell_type": "code",
   "execution_count": 6,
   "metadata": {},
   "outputs": [],
   "source": [
    "m0 = 0\n",
    "kappa0 = 0\n",
    "alpha0 = 0\n",
    "beta0 = 0"
   ]
  },
  {
   "cell_type": "code",
   "execution_count": 7,
   "metadata": {},
   "outputs": [
    {
     "data": {
      "text/plain": [
       "9.794416886805474"
      ]
     },
     "execution_count": 7,
     "metadata": {},
     "output_type": "execute_result"
    }
   ],
   "source": [
    "m_n = (kappa0 * m0 + n * xbar) / (kappa0 + n)\n",
    "m_n"
   ]
  },
  {
   "cell_type": "code",
   "execution_count": 8,
   "metadata": {},
   "outputs": [
    {
     "data": {
      "text/plain": [
       "20"
      ]
     },
     "execution_count": 8,
     "metadata": {},
     "output_type": "execute_result"
    }
   ],
   "source": [
    "kappa_n = kappa0 + n\n",
    "kappa_n"
   ]
  },
  {
   "cell_type": "code",
   "execution_count": 9,
   "metadata": {},
   "outputs": [
    {
     "data": {
      "text/plain": [
       "10.0"
      ]
     },
     "execution_count": 9,
     "metadata": {},
     "output_type": "execute_result"
    }
   ],
   "source": [
    "alpha_n = alpha0 + n/2\n",
    "alpha_n"
   ]
  },
  {
   "cell_type": "code",
   "execution_count": 10,
   "metadata": {},
   "outputs": [
    {
     "data": {
      "text/plain": [
       "40.300213066520726"
      ]
     },
     "execution_count": 10,
     "metadata": {},
     "output_type": "execute_result"
    }
   ],
   "source": [
    "beta_n = beta0 + n*s2/2 + n * kappa0 * (xbar-m0)**2 / (kappa0 + n)  / 2\n",
    "beta_n"
   ]
  },
  {
   "cell_type": "code",
   "execution_count": 11,
   "metadata": {},
   "outputs": [],
   "source": [
    "def update_normal(prior, summary):\n",
    "    m0, kappa0, alpha0, beta0 = prior\n",
    "    n, xbar, s2 = summary\n",
    "\n",
    "    m_n = (kappa0 * m0 + n * xbar) / (kappa0 + n)\n",
    "    kappa_n = kappa0 + n\n",
    "    alpha_n = alpha0 + n/2\n",
    "    beta_n = (beta0 + n*s2/2 + \n",
    "              n * kappa0 * (xbar-m0)**2 / (kappa0 + n) / 2)\n",
    "\n",
    "    return m_n, kappa_n, alpha_n, beta_n"
   ]
  },
  {
   "cell_type": "code",
   "execution_count": 12,
   "metadata": {},
   "outputs": [
    {
     "data": {
      "text/plain": [
       "(9.794416886805474, 20, 10.0, 40.300213066520726)"
      ]
     },
     "execution_count": 12,
     "metadata": {},
     "output_type": "execute_result"
    }
   ],
   "source": [
    "prior = 0, 0, 0, 0\n",
    "summary = n, xbar, s2\n",
    "update_normal(prior, summary)"
   ]
  },
  {
   "cell_type": "markdown",
   "metadata": {},
   "source": [
    "## Posterior distribution of sigma"
   ]
  },
  {
   "cell_type": "code",
   "execution_count": 13,
   "metadata": {},
   "outputs": [],
   "source": [
    "from scipy.stats import invgamma\n",
    "\n",
    "def make_invgamma(alpha, beta):\n",
    "    return invgamma(alpha, scale=beta)"
   ]
  },
  {
   "cell_type": "code",
   "execution_count": 14,
   "metadata": {},
   "outputs": [],
   "source": [
    "dist_sigma2 = make_invgamma(alpha_n, beta_n)"
   ]
  },
  {
   "cell_type": "code",
   "execution_count": 15,
   "metadata": {},
   "outputs": [
    {
     "data": {
      "text/plain": [
       "4.477801451835636"
      ]
     },
     "execution_count": 15,
     "metadata": {},
     "output_type": "execute_result"
    }
   ],
   "source": [
    "dist_sigma2.mean()"
   ]
  },
  {
   "cell_type": "code",
   "execution_count": 16,
   "metadata": {},
   "outputs": [
    {
     "data": {
      "text/plain": [
       "1.583141885699973"
      ]
     },
     "execution_count": 16,
     "metadata": {},
     "output_type": "execute_result"
    }
   ],
   "source": [
    "dist_sigma2.std()"
   ]
  },
  {
   "cell_type": "code",
   "execution_count": 17,
   "metadata": {},
   "outputs": [
    {
     "data": {
      "text/plain": [
       "9.92729006152895"
      ]
     },
     "execution_count": 17,
     "metadata": {},
     "output_type": "execute_result"
    }
   ],
   "source": [
    "sigma2s = np.linspace(0.01, 10, 101)\n",
    "ps = dist_sigma2.pdf(sigma2s)\n",
    "posterior_sigma2_invgammas = Pmf(ps, sigma2s)\n",
    "posterior_sigma2_invgammas.normalize()"
   ]
  },
  {
   "cell_type": "code",
   "execution_count": 18,
   "metadata": {},
   "outputs": [
    {
     "data": {
      "image/png": "[encoded data removed]",
      "text/plain": [
       "<Figure size 432x288 with 1 Axes>"
      ]
     },
     "metadata": {
      "needs_background": "light"
     },
     "output_type": "display_data"
    }
   ],
   "source": [
    "posterior_sigma2_invgammas.plot()\n",
    "decorate(xlabel='$\\sigma^2$',\n",
    "         ylabel='PDF',\n",
    "         title='Posterior distribution of variance')"
   ]
  },
  {
   "cell_type": "code",
   "execution_count": 19,
   "metadata": {},
   "outputs": [
    {
     "data": {
      "text/plain": [
       "9.92729006152895"
      ]
     },
     "execution_count": 19,
     "metadata": {},
     "output_type": "execute_result"
    }
   ],
   "source": [
    "sigmas = np.sqrt(sigma2s)\n",
    "posterior_sigma_invgammas = Pmf(ps, sigmas)\n",
    "posterior_sigma_invgammas.normalize()"
   ]
  },
  {
   "cell_type": "code",
   "execution_count": 20,
   "metadata": {},
   "outputs": [
    {
     "data": {
      "image/png": "[encoded data removed]",
      "text/plain": [
       "<Figure size 432x288 with 1 Axes>"
      ]
     },
     "metadata": {
      "needs_background": "light"
     },
     "output_type": "display_data"
    }
   ],
   "source": [
    "posterior_sigma_invgammas.plot()\n",
    "decorate(xlabel='$\\sigma$',\n",
    "         ylabel='PDF',\n",
    "         title='Posterior distribution of standard deviation')"
   ]
  },
  {
   "cell_type": "code",
   "execution_count": 21,
   "metadata": {},
   "outputs": [
    {
     "data": {
      "text/plain": [
       "2.075829605223673"
      ]
     },
     "execution_count": 21,
     "metadata": {},
     "output_type": "execute_result"
    }
   ],
   "source": [
    "posterior_sigma_invgammas.mean()"
   ]
  },
  {
   "cell_type": "code",
   "execution_count": 22,
   "metadata": {},
   "outputs": [
    {
     "data": {
      "text/plain": [
       "0.3290135633912751"
      ]
     },
     "execution_count": 22,
     "metadata": {},
     "output_type": "execute_result"
    }
   ],
   "source": [
    "posterior_sigma_invgammas.std()"
   ]
  },
  {
   "cell_type": "code",
   "execution_count": 23,
   "metadata": {},
   "outputs": [
    {
     "data": {
      "text/plain": [
       "0.3244428422615251"
      ]
     },
     "execution_count": 23,
     "metadata": {},
     "output_type": "execute_result"
    }
   ],
   "source": [
    "2 / np.sqrt(2 * (n-1))"
   ]
  },
  {
   "cell_type": "markdown",
   "metadata": {},
   "source": [
    "## Posterior distribution of mu"
   ]
  },
  {
   "cell_type": "code",
   "execution_count": 24,
   "metadata": {},
   "outputs": [],
   "source": [
    "from scipy.stats import t as student_t\n",
    "\n",
    "def make_student_t(df, loc, scale):\n",
    "    return student_t(df, loc=loc, scale=scale)"
   ]
  },
  {
   "cell_type": "code",
   "execution_count": 25,
   "metadata": {},
   "outputs": [],
   "source": [
    "df = 2 * alpha_n\n",
    "precision = alpha_n * kappa_n / beta_n\n",
    "dist_mu = make_student_t(df, m_n, 1/np.sqrt(precision))"
   ]
  },
  {
   "cell_type": "code",
   "execution_count": 26,
   "metadata": {},
   "outputs": [
    {
     "data": {
      "text/plain": [
       "9.794416886805474"
      ]
     },
     "execution_count": 26,
     "metadata": {},
     "output_type": "execute_result"
    }
   ],
   "source": [
    "dist_mu.mean()"
   ]
  },
  {
   "cell_type": "code",
   "execution_count": 27,
   "metadata": {},
   "outputs": [
    {
     "data": {
      "text/plain": [
       "0.473170236375643"
      ]
     },
     "execution_count": 27,
     "metadata": {},
     "output_type": "execute_result"
    }
   ],
   "source": [
    "dist_mu.std()"
   ]
  },
  {
   "cell_type": "code",
   "execution_count": 28,
   "metadata": {},
   "outputs": [
    {
     "data": {
      "text/plain": [
       "0.4472135954999579"
      ]
     },
     "execution_count": 28,
     "metadata": {},
     "output_type": "execute_result"
    }
   ],
   "source": [
    "np.sqrt(4/n)"
   ]
  },
  {
   "cell_type": "code",
   "execution_count": 29,
   "metadata": {},
   "outputs": [],
   "source": [
    "mus = np.linspace(8, 12, 101)\n",
    "ps = dist_mu.pdf(mus)\n",
    "posterior_mus = Pmf(ps, mus)"
   ]
  },
  {
   "cell_type": "code",
   "execution_count": 30,
   "metadata": {},
   "outputs": [
    {
     "data": {
      "image/png": "[encoded data removed]",
      "text/plain": [
       "<Figure size 432x288 with 1 Axes>"
      ]
     },
     "metadata": {
      "needs_background": "light"
     },
     "output_type": "display_data"
    }
   ],
   "source": [
    "posterior_mus.plot()\n",
    "decorate(xlabel='$\\mu$',\n",
    "         ylabel='PDF',\n",
    "         title='Posterior distribution of mu')"
   ]
  },
  {
   "cell_type": "code",
   "execution_count": 31,
   "metadata": {},
   "outputs": [],
   "source": [
    "def make_posterior_mu(m_n, kappa_n, alpha_n, beta_n):\n",
    "    df = 2 * alpha_n\n",
    "    loc = m_n\n",
    "    precision = alpha_n * kappa_n / beta_n\n",
    "    dist_mu = make_student_t(df, loc, 1/np.sqrt(precision))\n",
    "    return dist_mu"
   ]
  },
  {
   "cell_type": "markdown",
   "metadata": {},
   "source": [
    "## Posterior joint distribution"
   ]
  },
  {
   "cell_type": "code",
   "execution_count": 32,
   "metadata": {},
   "outputs": [],
   "source": [
    "mu_mesh, sigma2_mesh = np.meshgrid(mus, sigma2s)"
   ]
  },
  {
   "cell_type": "code",
   "execution_count": 33,
   "metadata": {},
   "outputs": [],
   "source": [
    "joint = (dist_sigma2.pdf(sigma2_mesh) * \n",
    "         norm(m_n, sigma2_mesh/kappa_n).pdf(mu_mesh))\n",
    "joint_df = pd.DataFrame(joint, columns=mus, index=sigma2s)"
   ]
  },
  {
   "cell_type": "code",
   "execution_count": 34,
   "metadata": {},
   "outputs": [
    {
     "data": {
      "image/png": "[encoded data removed]",
      "text/plain": [
       "<Figure size 432x288 with 1 Axes>"
      ]
     },
     "metadata": {
      "needs_background": "light"
     },
     "output_type": "display_data"
    }
   ],
   "source": [
    "from utils import plot_contour\n",
    "\n",
    "plot_contour(joint_df)\n",
    "decorate(xlabel='$\\mu$',\n",
    "         ylabel='$\\sigma^2$',\n",
    "         title='Posterior joint distribution')"
   ]
  },
  {
   "cell_type": "markdown",
   "metadata": {},
   "source": [
    "## Sampling from posterior predictive"
   ]
  },
  {
   "cell_type": "code",
   "execution_count": 35,
   "metadata": {},
   "outputs": [],
   "source": [
    "sample_sigma2 = dist_sigma2.rvs(1000)"
   ]
  },
  {
   "cell_type": "code",
   "execution_count": 36,
   "metadata": {},
   "outputs": [],
   "source": [
    "sample_mu = norm(m_n, sample_sigma2 / kappa_n).rvs()"
   ]
  },
  {
   "cell_type": "code",
   "execution_count": 37,
   "metadata": {},
   "outputs": [],
   "source": [
    "sample_pred = norm(sample_mu, np.sqrt(sample_sigma2)).rvs()"
   ]
  },
  {
   "cell_type": "code",
   "execution_count": 38,
   "metadata": {},
   "outputs": [
    {
     "data": {
      "image/png": "[encoded data removed]",
      "text/plain": [
       "<Figure size 432x288 with 1 Axes>"
      ]
     },
     "metadata": {
      "needs_background": "light"
     },
     "output_type": "display_data"
    }
   ],
   "source": [
    "cdf_pred = Cdf.from_seq(sample_pred)\n",
    "cdf_pred.plot()"
   ]
  },
  {
   "cell_type": "code",
   "execution_count": 39,
   "metadata": {},
   "outputs": [
    {
     "data": {
      "text/plain": [
       "(9.84456832083291, 4.230082256705911)"
      ]
     },
     "execution_count": 39,
     "metadata": {},
     "output_type": "execute_result"
    }
   ],
   "source": [
    "sample_pred.mean(), sample_pred.var()"
   ]
  },
  {
   "cell_type": "markdown",
   "metadata": {},
   "source": [
    "## Analytic posterior predictive"
   ]
  },
  {
   "cell_type": "code",
   "execution_count": 40,
   "metadata": {},
   "outputs": [],
   "source": [
    "df = 2 * alpha_n\n",
    "precision = alpha_n * kappa_n / beta_n / (kappa_n+1)\n",
    "dist_pred = make_student_t(df, m_n, 1/np.sqrt(precision))"
   ]
  },
  {
   "cell_type": "code",
   "execution_count": 41,
   "metadata": {},
   "outputs": [
    {
     "data": {
      "image/png": "[encoded data removed]",
      "text/plain": [
       "<Figure size 432x288 with 1 Axes>"
      ]
     },
     "metadata": {
      "needs_background": "light"
     },
     "output_type": "display_data"
    }
   ],
   "source": [
    "xs = np.linspace(2, 16, 101)\n",
    "ys = dist_pred.cdf(xs)\n",
    "\n",
    "plt.plot(xs, ys)\n",
    "cdf_pred.plot()"
   ]
  },
  {
   "cell_type": "code",
   "execution_count": 42,
   "metadata": {},
   "outputs": [],
   "source": [
    "def make_posterior_pred(m_n, kappa_n, alpha_n, beta_n):\n",
    "    df = 2 * alpha_n\n",
    "    loc = m_n\n",
    "    precision = alpha_n * kappa_n / beta_n / (kappa_n+1)\n",
    "    dist_pred = make_student_t(df, loc, 1/np.sqrt(precision))\n",
    "    return dist_pred"
   ]
  },
  {
   "cell_type": "markdown",
   "metadata": {},
   "source": [
    "## Multivariate normal"
   ]
  },
  {
   "cell_type": "markdown",
   "metadata": {},
   "source": [
    "## Generate data"
   ]
  },
  {
   "cell_type": "code",
   "execution_count": 43,
   "metadata": {},
   "outputs": [
    {
     "data": {
      "text/plain": [
       "[[4, 1.7999999999999998], [1.7999999999999998, 9]]"
      ]
     },
     "execution_count": 43,
     "metadata": {},
     "output_type": "execute_result"
    }
   ],
   "source": [
    "mean = [10, 20]\n",
    "\n",
    "sigma_x = 2\n",
    "sigma_y = 3\n",
    "rho = 0.3\n",
    "cov = rho * sigma_x * sigma_y \n",
    "\n",
    "Sigma = [[sigma_x**2, cov], [cov, sigma_y**2]]\n",
    "Sigma"
   ]
  },
  {
   "cell_type": "code",
   "execution_count": 44,
   "metadata": {},
   "outputs": [
    {
     "data": {
      "text/plain": [
       "array([[10.44379324, 18.3936843 ],\n",
       "       [12.46765693, 24.0073328 ],\n",
       "       [10.81773962, 26.6432393 ],\n",
       "       [ 9.88116995, 23.48407239],\n",
       "       [ 7.28394576, 20.28871105],\n",
       "       [10.54981738, 22.48000387],\n",
       "       [10.11096506, 21.01647928],\n",
       "       [10.57847921, 17.93052365],\n",
       "       [ 8.7990355 , 23.77974948],\n",
       "       [ 9.8126    , 16.71896621],\n",
       "       [ 9.84417254, 27.65704909],\n",
       "       [ 9.61736078, 23.00607793],\n",
       "       [12.67907171, 18.10948836],\n",
       "       [ 9.07724123, 16.74282185],\n",
       "       [13.33598448, 19.15063024],\n",
       "       [ 8.96145849, 16.60850199],\n",
       "       [ 6.83919386, 16.64095496],\n",
       "       [12.75275435, 20.30766967],\n",
       "       [ 8.51229891, 16.96243728],\n",
       "       [ 8.48844595, 22.59190521]])"
      ]
     },
     "execution_count": 44,
     "metadata": {},
     "output_type": "execute_result"
    }
   ],
   "source": [
    "from scipy.stats import multivariate_normal\n",
    "\n",
    "n = 20\n",
    "data = multivariate_normal(mean, Sigma).rvs(n)\n",
    "data"
   ]
  },
  {
   "cell_type": "code",
   "execution_count": 45,
   "metadata": {},
   "outputs": [
    {
     "data": {
      "text/plain": [
       "20"
      ]
     },
     "execution_count": 45,
     "metadata": {},
     "output_type": "execute_result"
    }
   ],
   "source": [
    "n = len(data)\n",
    "n"
   ]
  },
  {
   "cell_type": "code",
   "execution_count": 46,
   "metadata": {},
   "outputs": [
    {
     "data": {
      "text/plain": [
       "array([10.04265925, 20.62601495])"
      ]
     },
     "execution_count": 46,
     "metadata": {},
     "output_type": "execute_result"
    }
   ],
   "source": [
    "xbar = np.mean(data, axis=0)\n",
    "xbar"
   ]
  },
  {
   "cell_type": "code",
   "execution_count": 47,
   "metadata": {},
   "outputs": [
    {
     "data": {
      "text/plain": [
       "array([[ 3.10051096,  0.92537999],\n",
       "       [ 0.92537999, 11.84580665]])"
      ]
     },
     "execution_count": 47,
     "metadata": {},
     "output_type": "execute_result"
    }
   ],
   "source": [
    "S = np.cov(data.transpose())\n",
    "S"
   ]
  },
  {
   "cell_type": "code",
   "execution_count": 48,
   "metadata": {},
   "outputs": [
    {
     "data": {
      "text/plain": [
       "array([[1.        , 0.15269371],\n",
       "       [0.15269371, 1.        ]])"
      ]
     },
     "execution_count": 48,
     "metadata": {},
     "output_type": "execute_result"
    }
   ],
   "source": [
    "np.corrcoef(data.transpose())"
   ]
  },
  {
   "cell_type": "code",
   "execution_count": 49,
   "metadata": {},
   "outputs": [
    {
     "data": {
      "text/plain": [
       "array([1.76082678, 3.44177376])"
      ]
     },
     "execution_count": 49,
     "metadata": {},
     "output_type": "execute_result"
    }
   ],
   "source": [
    "stds = np.sqrt(np.diag(S))\n",
    "stds"
   ]
  },
  {
   "cell_type": "code",
   "execution_count": 50,
   "metadata": {},
   "outputs": [
    {
     "data": {
      "text/plain": [
       "array([[1.        , 0.15269371],\n",
       "       [0.15269371, 1.        ]])"
      ]
     },
     "execution_count": 50,
     "metadata": {},
     "output_type": "execute_result"
    }
   ],
   "source": [
    "corrcoef = S / np.outer(stds, stds)\n",
    "corrcoef"
   ]
  },
  {
   "cell_type": "code",
   "execution_count": 51,
   "metadata": {},
   "outputs": [],
   "source": [
    "def unpack_cov(S):\n",
    "    stds = np.sqrt(np.diag(S))\n",
    "    corrcoef = S / np.outer(stds, stds)\n",
    "    return stds[0], stds[1], corrcoef[0][1]"
   ]
  },
  {
   "cell_type": "code",
   "execution_count": 52,
   "metadata": {},
   "outputs": [
    {
     "data": {
      "text/plain": [
       "(1.7608267831985442, 3.441773764993555, 0.15269370986993366)"
      ]
     },
     "execution_count": 52,
     "metadata": {},
     "output_type": "execute_result"
    }
   ],
   "source": [
    "sigma_x, sigma_y, rho = unpack_cov(S)\n",
    "sigma_x, sigma_y, rho"
   ]
  },
  {
   "cell_type": "code",
   "execution_count": 53,
   "metadata": {},
   "outputs": [],
   "source": [
    "def pack_cov(sigma_x, sigma_y, rho):\n",
    "    cov = sigma_x * sigma_y * rho\n",
    "    return np.array([[sigma_x**2, cov], [cov, sigma_y**2]])"
   ]
  },
  {
   "cell_type": "code",
   "execution_count": 54,
   "metadata": {},
   "outputs": [
    {
     "data": {
      "text/plain": [
       "array([[ 3.10051096,  0.92537999],\n",
       "       [ 0.92537999, 11.84580665]])"
      ]
     },
     "execution_count": 54,
     "metadata": {},
     "output_type": "execute_result"
    }
   ],
   "source": [
    "pack_cov(sigma_x, sigma_y, rho)"
   ]
  },
  {
   "cell_type": "code",
   "execution_count": 55,
   "metadata": {},
   "outputs": [
    {
     "data": {
      "text/plain": [
       "array([[ 3.10051096,  0.92537999],\n",
       "       [ 0.92537999, 11.84580665]])"
      ]
     },
     "execution_count": 55,
     "metadata": {},
     "output_type": "execute_result"
    }
   ],
   "source": [
    "S"
   ]
  },
  {
   "cell_type": "markdown",
   "metadata": {},
   "source": [
    "## Update\n",
    "\n"
   ]
  },
  {
   "cell_type": "code",
   "execution_count": 56,
   "metadata": {},
   "outputs": [],
   "source": [
    "m0 = 0\n",
    "Lambda0 = 0\n",
    "nu0 = 0\n",
    "kappa0 = 0"
   ]
  },
  {
   "cell_type": "code",
   "execution_count": 57,
   "metadata": {},
   "outputs": [
    {
     "data": {
      "text/plain": [
       "array([10.04265925, 20.62601495])"
      ]
     },
     "execution_count": 57,
     "metadata": {},
     "output_type": "execute_result"
    }
   ],
   "source": [
    "m_n = (kappa0 * m0 + n * xbar) / (kappa0 + n)\n",
    "m_n"
   ]
  },
  {
   "cell_type": "code",
   "execution_count": 58,
   "metadata": {},
   "outputs": [
    {
     "data": {
      "text/plain": [
       "array([10.04265925, 20.62601495])"
      ]
     },
     "execution_count": 58,
     "metadata": {},
     "output_type": "execute_result"
    }
   ],
   "source": [
    "xbar"
   ]
  },
  {
   "cell_type": "code",
   "execution_count": 59,
   "metadata": {},
   "outputs": [
    {
     "data": {
      "text/plain": [
       "array([[100.85500477, 207.14003974],\n",
       "       [207.14003974, 425.43249254]])"
      ]
     },
     "execution_count": 59,
     "metadata": {},
     "output_type": "execute_result"
    }
   ],
   "source": [
    "diff = (xbar - m0)\n",
    "D = np.outer(diff, diff)\n",
    "D"
   ]
  },
  {
   "cell_type": "code",
   "execution_count": 60,
   "metadata": {},
   "outputs": [
    {
     "data": {
      "text/plain": [
       "array([[ 3.10051096,  0.92537999],\n",
       "       [ 0.92537999, 11.84580665]])"
      ]
     },
     "execution_count": 60,
     "metadata": {},
     "output_type": "execute_result"
    }
   ],
   "source": [
    "Lambda_n = Lambda0 + S + n * kappa0 * D / (kappa0 + n)\n",
    "Lambda_n"
   ]
  },
  {
   "cell_type": "code",
   "execution_count": 61,
   "metadata": {},
   "outputs": [
    {
     "data": {
      "text/plain": [
       "array([[ 3.10051096,  0.92537999],\n",
       "       [ 0.92537999, 11.84580665]])"
      ]
     },
     "execution_count": 61,
     "metadata": {},
     "output_type": "execute_result"
    }
   ],
   "source": [
    "S"
   ]
  },
  {
   "cell_type": "code",
   "execution_count": 62,
   "metadata": {},
   "outputs": [
    {
     "data": {
      "text/plain": [
       "20"
      ]
     },
     "execution_count": 62,
     "metadata": {},
     "output_type": "execute_result"
    }
   ],
   "source": [
    "nu_n = nu0 + n\n",
    "nu_n"
   ]
  },
  {
   "cell_type": "code",
   "execution_count": 63,
   "metadata": {},
   "outputs": [
    {
     "data": {
      "text/plain": [
       "20"
      ]
     },
     "execution_count": 63,
     "metadata": {},
     "output_type": "execute_result"
    }
   ],
   "source": [
    "kappa_n = kappa0 + n\n",
    "kappa_n"
   ]
  },
  {
   "cell_type": "markdown",
   "metadata": {},
   "source": [
    "## Posterior distribution of covariance"
   ]
  },
  {
   "cell_type": "code",
   "execution_count": 64,
   "metadata": {},
   "outputs": [],
   "source": [
    "from scipy.stats import invwishart\n",
    "from scipy.linalg import inv\n",
    "\n",
    "def make_invwishart(nu, Lambda):\n",
    "    d, _ = Lambda.shape\n",
    "    return invwishart(nu, scale=Lambda * (nu - d - 1))"
   ]
  },
  {
   "cell_type": "code",
   "execution_count": 65,
   "metadata": {},
   "outputs": [],
   "source": [
    "dist_cov = make_invwishart(nu_n, Lambda_n)"
   ]
  },
  {
   "cell_type": "code",
   "execution_count": 66,
   "metadata": {},
   "outputs": [
    {
     "data": {
      "text/plain": [
       "array([[ 3.10051096,  0.92537999],\n",
       "       [ 0.92537999, 11.84580665]])"
      ]
     },
     "execution_count": 66,
     "metadata": {},
     "output_type": "execute_result"
    }
   ],
   "source": [
    "dist_cov.mean()"
   ]
  },
  {
   "cell_type": "code",
   "execution_count": 67,
   "metadata": {},
   "outputs": [
    {
     "data": {
      "text/plain": [
       "array([[ 3.10051096,  0.92537999],\n",
       "       [ 0.92537999, 11.84580665]])"
      ]
     },
     "execution_count": 67,
     "metadata": {},
     "output_type": "execute_result"
    }
   ],
   "source": [
    "S"
   ]
  },
  {
   "cell_type": "code",
   "execution_count": 68,
   "metadata": {},
   "outputs": [
    {
     "data": {
      "text/plain": [
       "array([[ 3.14589413,  0.97146615],\n",
       "       [ 0.97146615, 11.82572304]])"
      ]
     },
     "execution_count": 68,
     "metadata": {},
     "output_type": "execute_result"
    }
   ],
   "source": [
    "sample_Sigma = dist_cov.rvs(1000)\n",
    "np.mean(sample_Sigma, axis=0)"
   ]
  },
  {
   "cell_type": "code",
   "execution_count": 69,
   "metadata": {},
   "outputs": [],
   "source": [
    "res = [unpack_cov(Sigma) for Sigma in sample_Sigma]"
   ]
  },
  {
   "cell_type": "code",
   "execution_count": 70,
   "metadata": {},
   "outputs": [
    {
     "data": {
      "text/plain": [
       "(1.7470201615886167, 3.3905250912403617, 0.15444815375613194)"
      ]
     },
     "execution_count": 70,
     "metadata": {},
     "output_type": "execute_result"
    }
   ],
   "source": [
    "sample_sigma_x, sample_sigma_y, sample_rho = np.transpose(res)\n",
    "sample_sigma_x.mean(), sample_sigma_y.mean(), sample_rho.mean()"
   ]
  },
  {
   "cell_type": "code",
   "execution_count": 71,
   "metadata": {},
   "outputs": [
    {
     "data": {
      "text/plain": [
       "(1.7608267831985442, 3.441773764993555, 0.15269370986993366)"
      ]
     },
     "execution_count": 71,
     "metadata": {},
     "output_type": "execute_result"
    }
   ],
   "source": [
    "unpack_cov(S)"
   ]
  },
  {
   "cell_type": "code",
   "execution_count": 72,
   "metadata": {},
   "outputs": [
    {
     "data": {
      "image/png": "[encoded data removed]",
      "text/plain": [
       "<Figure size 432x288 with 1 Axes>"
      ]
     },
     "metadata": {
      "needs_background": "light"
     },
     "output_type": "display_data"
    }
   ],
   "source": [
    "Cdf.from_seq(sample_sigma_x).plot(label='$\\sigma_x$')\n",
    "Cdf.from_seq(sample_sigma_y).plot(label='$\\sigma_y$')\n",
    "\n",
    "decorate(xlabel='Standard deviation',\n",
    "         ylabel='CDF',\n",
    "        title='Posterior distribution of standard deviation')"
   ]
  },
  {
   "cell_type": "code",
   "execution_count": 73,
   "metadata": {},
   "outputs": [
    {
     "data": {
      "image/png": "[encoded data removed]",
      "text/plain": [
       "<Figure size 432x288 with 1 Axes>"
      ]
     },
     "metadata": {
      "needs_background": "light"
     },
     "output_type": "display_data"
    }
   ],
   "source": [
    "Cdf.from_seq(sample_rho).plot()\n",
    "\n",
    "decorate(xlabel='Coefficient of correlation',\n",
    "         ylabel='CDF',\n",
    "         title='Posterior distribution of correlation')"
   ]
  },
  {
   "cell_type": "markdown",
   "metadata": {},
   "source": [
    "## Evaluate the Inverse Wishart PDF"
   ]
  },
  {
   "cell_type": "code",
   "execution_count": 74,
   "metadata": {},
   "outputs": [],
   "source": [
    "num = 51\n",
    "sigma_xs = np.linspace(0.01, 10, num)"
   ]
  },
  {
   "cell_type": "code",
   "execution_count": 75,
   "metadata": {},
   "outputs": [],
   "source": [
    "sigma_ys = np.linspace(0.01, 10, num)"
   ]
  },
  {
   "cell_type": "code",
   "execution_count": 76,
   "metadata": {},
   "outputs": [],
   "source": [
    "rhos = np.linspace(-0.3, 0.6, num)"
   ]
  },
  {
   "cell_type": "code",
   "execution_count": 77,
   "metadata": {},
   "outputs": [
    {
     "data": {
      "text/plain": [
       "sigma_x  sigma_y  rho   \n",
       "0.01     0.01     -0.300    0\n",
       "                  -0.282    0\n",
       "                  -0.264    0\n",
       "                  -0.246    0\n",
       "                  -0.228    0\n",
       "dtype: int64"
      ]
     },
     "execution_count": 77,
     "metadata": {},
     "output_type": "execute_result"
    }
   ],
   "source": [
    "index = pd.MultiIndex.from_product([sigma_xs, sigma_ys, rhos],\n",
    "                             names=['sigma_x', 'sigma_y', 'rho'])\n",
    "joint = Pmf(0, index)\n",
    "joint.head()"
   ]
  },
  {
   "cell_type": "code",
   "execution_count": 78,
   "metadata": {},
   "outputs": [
    {
     "data": {
      "text/plain": [
       "0.00973403614090345"
      ]
     },
     "execution_count": 78,
     "metadata": {},
     "output_type": "execute_result"
    }
   ],
   "source": [
    "dist_cov.pdf(S)"
   ]
  },
  {
   "cell_type": "code",
   "execution_count": 79,
   "metadata": {},
   "outputs": [
    {
     "data": {
      "text/plain": [
       "11.675256915055522"
      ]
     },
     "execution_count": 79,
     "metadata": {},
     "output_type": "execute_result"
    }
   ],
   "source": [
    "for sigma_x, sigma_y, rho in joint.index:\n",
    "    Sigma = pack_cov(sigma_x, sigma_y, rho)\n",
    "    joint.loc[sigma_x, sigma_y, rho] = dist_cov.pdf(Sigma)\n",
    "    \n",
    "joint.normalize()"
   ]
  },
  {
   "cell_type": "code",
   "execution_count": 80,
   "metadata": {},
   "outputs": [
    {
     "data": {
      "text/plain": [
       "(1.6344548740552347, 3.194792556435294, 0.14279566459320348)"
      ]
     },
     "execution_count": 80,
     "metadata": {},
     "output_type": "execute_result"
    }
   ],
   "source": [
    "from utils import pmf_marginal\n",
    "\n",
    "posterior_sigma_grid_x = pmf_marginal(joint, 0)\n",
    "posterior_sigma_grid_y = pmf_marginal(joint, 1)\n",
    "marginal_rho = pmf_marginal(joint, 2)\n",
    "\n",
    "posterior_sigma_grid_x.mean(), posterior_sigma_grid_y.mean(), marginal_rho.mean()"
   ]
  },
  {
   "cell_type": "code",
   "execution_count": 81,
   "metadata": {},
   "outputs": [
    {
     "data": {
      "text/plain": [
       "(1.7608267831985442, 3.441773764993555, 0.15269370986993366)"
      ]
     },
     "execution_count": 81,
     "metadata": {},
     "output_type": "execute_result"
    }
   ],
   "source": [
    "unpack_cov(S)"
   ]
  },
  {
   "cell_type": "code",
   "execution_count": 82,
   "metadata": {},
   "outputs": [
    {
     "data": {
      "image/png": "[encoded data removed]",
      "text/plain": [
       "<Figure size 432x288 with 1 Axes>"
      ]
     },
     "metadata": {
      "needs_background": "light"
     },
     "output_type": "display_data"
    }
   ],
   "source": [
    "posterior_sigma_grid_x.plot(label='$\\sigma_x$')\n",
    "posterior_sigma_grid_y.plot(label='$\\sigma_y$')\n",
    "\n",
    "decorate(xlabel='Standard deviation',\n",
    "         ylabel='PDF',\n",
    "         title='Posterior distribution of standard deviation')"
   ]
  },
  {
   "cell_type": "code",
   "execution_count": 83,
   "metadata": {},
   "outputs": [
    {
     "data": {
      "image/png": "[encoded data removed]",
      "text/plain": [
       "<Figure size 432x288 with 1 Axes>"
      ]
     },
     "metadata": {
      "needs_background": "light"
     },
     "output_type": "display_data"
    }
   ],
   "source": [
    "posterior_sigma_grid_x.make_cdf().plot(color='gray')\n",
    "posterior_sigma_grid_y.make_cdf().plot(color='gray')\n",
    "\n",
    "Cdf.from_seq(sample_sigma_x).plot(label='$\\sigma_x$')\n",
    "Cdf.from_seq(sample_sigma_y).plot(label='$\\sigma_y$')\n",
    "\n",
    "decorate(xlabel='Standard deviation',\n",
    "         ylabel='CDF',\n",
    "         title='Posterior distribution of standard deviation')"
   ]
  },
  {
   "cell_type": "code",
   "execution_count": 84,
   "metadata": {},
   "outputs": [
    {
     "data": {
      "image/png": "[encoded data removed]",
      "text/plain": [
       "<Figure size 432x288 with 1 Axes>"
      ]
     },
     "metadata": {
      "needs_background": "light"
     },
     "output_type": "display_data"
    }
   ],
   "source": [
    "marginal_rho.make_cdf().plot(color='gray')\n",
    "\n",
    "Cdf.from_seq(sample_rho).plot()\n",
    "\n",
    "decorate(xlabel='Coefficient of correlation',\n",
    "         ylabel='CDF',\n",
    "         title='Posterior distribution of correlation')"
   ]
  },
  {
   "cell_type": "markdown",
   "metadata": {},
   "source": [
    "## Posterior distribution of mu"
   ]
  },
  {
   "cell_type": "code",
   "execution_count": 85,
   "metadata": {},
   "outputs": [],
   "source": [
    "sample_mu = [multivariate_normal(m_n, Sigma/kappa_n).rvs()\n",
    "             for Sigma in sample_Sigma]"
   ]
  },
  {
   "cell_type": "code",
   "execution_count": 86,
   "metadata": {},
   "outputs": [
    {
     "data": {
      "text/plain": [
       "(10.050962657656278, 20.61466864209053)"
      ]
     },
     "execution_count": 86,
     "metadata": {},
     "output_type": "execute_result"
    }
   ],
   "source": [
    "sample_mu0, sample_mu1 = np.transpose(sample_mu)\n",
    "\n",
    "sample_mu0.mean(), sample_mu1.mean()"
   ]
  },
  {
   "cell_type": "code",
   "execution_count": 87,
   "metadata": {},
   "outputs": [
    {
     "data": {
      "text/plain": [
       "array([10.04265925, 20.62601495])"
      ]
     },
     "execution_count": 87,
     "metadata": {},
     "output_type": "execute_result"
    }
   ],
   "source": [
    "xbar"
   ]
  },
  {
   "cell_type": "code",
   "execution_count": 88,
   "metadata": {},
   "outputs": [
    {
     "data": {
      "text/plain": [
       "(0.4004345350882152, 0.7782934609713221)"
      ]
     },
     "execution_count": 88,
     "metadata": {},
     "output_type": "execute_result"
    }
   ],
   "source": [
    "sample_mu0.std(), sample_mu1.std()"
   ]
  },
  {
   "cell_type": "code",
   "execution_count": 89,
   "metadata": {},
   "outputs": [
    {
     "data": {
      "text/plain": [
       "(0.4472135954999579, 0.6708203932499369)"
      ]
     },
     "execution_count": 89,
     "metadata": {},
     "output_type": "execute_result"
    }
   ],
   "source": [
    "2 / np.sqrt(n), 3 / np.sqrt(n)"
   ]
  },
  {
   "cell_type": "code",
   "execution_count": 90,
   "metadata": {},
   "outputs": [
    {
     "data": {
      "text/plain": [
       "(20, 10.042659247784052, 3.1005109604293333)"
      ]
     },
     "execution_count": 90,
     "metadata": {},
     "output_type": "execute_result"
    }
   ],
   "source": [
    "prior = 0, 0, 0, 0\n",
    "summary = n, xbar[0], S[0][0]\n",
    "summary"
   ]
  },
  {
   "cell_type": "code",
   "execution_count": 91,
   "metadata": {},
   "outputs": [
    {
     "data": {
      "text/plain": [
       "(10.042659247784052, 20, 10.0, 31.00510960429333)"
      ]
     },
     "execution_count": 91,
     "metadata": {},
     "output_type": "execute_result"
    }
   ],
   "source": [
    "params = update_normal(prior, summary)\n",
    "params"
   ]
  },
  {
   "cell_type": "code",
   "execution_count": 92,
   "metadata": {},
   "outputs": [
    {
     "data": {
      "text/plain": [
       "(10.042659247784052, 0.41503085296486186)"
      ]
     },
     "execution_count": 92,
     "metadata": {},
     "output_type": "execute_result"
    }
   ],
   "source": [
    "dist_mu0 = make_posterior_mu(*params)\n",
    "dist_mu0.mean(), dist_mu0.std()"
   ]
  },
  {
   "cell_type": "code",
   "execution_count": 93,
   "metadata": {},
   "outputs": [
    {
     "data": {
      "text/plain": [
       "24.998688787028048"
      ]
     },
     "execution_count": 93,
     "metadata": {},
     "output_type": "execute_result"
    }
   ],
   "source": [
    "mu0s = np.linspace(8, 12, 101)\n",
    "ps = dist_mu0.pdf(mu0s)\n",
    "posterior_mu0 = Pmf(ps, index=mu0s)\n",
    "posterior_mu0.normalize()"
   ]
  },
  {
   "cell_type": "code",
   "execution_count": 94,
   "metadata": {},
   "outputs": [
    {
     "data": {
      "text/plain": [
       "(20, 20.62601494567528, 11.845806649397911)"
      ]
     },
     "execution_count": 94,
     "metadata": {},
     "output_type": "execute_result"
    }
   ],
   "source": [
    "prior = 0, 0, 0, 0\n",
    "summary = n, xbar[1], S[1][1]\n",
    "summary"
   ]
  },
  {
   "cell_type": "code",
   "execution_count": 95,
   "metadata": {},
   "outputs": [
    {
     "data": {
      "text/plain": [
       "(20.62601494567528, 20, 10.0, 118.45806649397912)"
      ]
     },
     "execution_count": 95,
     "metadata": {},
     "output_type": "execute_result"
    }
   ],
   "source": [
    "params = update_normal(prior, summary)\n",
    "params"
   ]
  },
  {
   "cell_type": "code",
   "execution_count": 96,
   "metadata": {},
   "outputs": [
    {
     "data": {
      "text/plain": [
       "(20.62601494567528, 0.8112338561789658)"
      ]
     },
     "execution_count": 96,
     "metadata": {},
     "output_type": "execute_result"
    }
   ],
   "source": [
    "dist_mu1 = make_posterior_mu(*params)\n",
    "dist_mu1.mean(), dist_mu1.std()"
   ]
  },
  {
   "cell_type": "code",
   "execution_count": 97,
   "metadata": {},
   "outputs": [
    {
     "data": {
      "text/plain": [
       "23.90360329619719"
      ]
     },
     "execution_count": 97,
     "metadata": {},
     "output_type": "execute_result"
    }
   ],
   "source": [
    "mu1s = np.linspace(18, 22, 101)\n",
    "ps = dist_mu1.pdf(mu1s)\n",
    "posterior_mu1 = Pmf(ps, index=mu1s)\n",
    "posterior_mu1.normalize()"
   ]
  },
  {
   "cell_type": "code",
   "execution_count": 98,
   "metadata": {
    "scrolled": true
   },
   "outputs": [
    {
     "data": {
      "image/png": "[encoded data removed]",
      "text/plain": [
       "<Figure size 432x288 with 1 Axes>"
      ]
     },
     "metadata": {
      "needs_background": "light"
     },
     "output_type": "display_data"
    }
   ],
   "source": [
    "posterior_mu0.make_cdf().plot(color='gray')\n",
    "posterior_mu1.make_cdf().plot(color='gray')\n",
    "\n",
    "Cdf.from_seq(sample_mu0).plot(label='$\\mu_0$')\n",
    "Cdf.from_seq(sample_mu1).plot(label='$\\mu_1$')\n",
    "\n",
    "decorate(xlabel='Mean',\n",
    "         ylabel='CDF',\n",
    "         title='Posterior distribution of the means')"
   ]
  },
  {
   "cell_type": "markdown",
   "metadata": {},
   "source": [
    "## Sampling from posterior predictive"
   ]
  },
  {
   "cell_type": "code",
   "execution_count": 99,
   "metadata": {},
   "outputs": [],
   "source": [
    "sample_pred = [multivariate_normal(mu, Sigma).rvs()\n",
    "               for mu, Sigma in zip(sample_mu, sample_Sigma)]"
   ]
  },
  {
   "cell_type": "code",
   "execution_count": 100,
   "metadata": {},
   "outputs": [
    {
     "data": {
      "text/plain": [
       "(10.078813858023606, 20.683585838686874)"
      ]
     },
     "execution_count": 100,
     "metadata": {},
     "output_type": "execute_result"
    }
   ],
   "source": [
    "sample_x0, sample_x1 = np.transpose(sample_pred)\n",
    "\n",
    "sample_x0.mean(), sample_x1.mean()"
   ]
  },
  {
   "cell_type": "code",
   "execution_count": 101,
   "metadata": {},
   "outputs": [
    {
     "data": {
      "text/plain": [
       "(1.869261671509512, 3.559491544544339)"
      ]
     },
     "execution_count": 101,
     "metadata": {},
     "output_type": "execute_result"
    }
   ],
   "source": [
    "sample_x0.std(), sample_x1.std()"
   ]
  },
  {
   "cell_type": "code",
   "execution_count": 102,
   "metadata": {},
   "outputs": [
    {
     "data": {
      "text/plain": [
       "(10.042659247784052, 1.9019102994535666)"
      ]
     },
     "execution_count": 102,
     "metadata": {},
     "output_type": "execute_result"
    }
   ],
   "source": [
    "prior = 0, 0, 0, 0\n",
    "summary = n, xbar[0], S[0][0]\n",
    "params = update_normal(prior, summary)\n",
    "dist_x0 = make_posterior_pred(*params)\n",
    "dist_x0.mean(), dist_x0.std()"
   ]
  },
  {
   "cell_type": "code",
   "execution_count": 103,
   "metadata": {},
   "outputs": [
    {
     "data": {
      "text/plain": [
       "6.2485616912408295"
      ]
     },
     "execution_count": 103,
     "metadata": {},
     "output_type": "execute_result"
    }
   ],
   "source": [
    "x0s = np.linspace(2, 18, 101)\n",
    "ps = dist_x0.pdf(x0s)\n",
    "posterior_x0 = Pmf(ps, index=x0s)\n",
    "posterior_x0.normalize()"
   ]
  },
  {
   "cell_type": "code",
   "execution_count": 104,
   "metadata": {},
   "outputs": [
    {
     "data": {
      "text/plain": [
       "(20.62601494567528, 3.717540552251031)"
      ]
     },
     "execution_count": 104,
     "metadata": {},
     "output_type": "execute_result"
    }
   ],
   "source": [
    "prior = 0, 0, 0, 0\n",
    "summary = n, xbar[1], S[1][1]\n",
    "params = update_normal(prior, summary)\n",
    "dist_x1 = make_posterior_pred(*params)\n",
    "dist_x1.mean(), dist_x1.std()"
   ]
  },
  {
   "cell_type": "code",
   "execution_count": 105,
   "metadata": {},
   "outputs": [
    {
     "data": {
      "text/plain": [
       "4.9484239091321935"
      ]
     },
     "execution_count": 105,
     "metadata": {},
     "output_type": "execute_result"
    }
   ],
   "source": [
    "x1s = np.linspace(10, 30, 101)\n",
    "ps = dist_x1.pdf(x1s)\n",
    "posterior_x1 = Pmf(ps, index=x1s)\n",
    "posterior_x1.normalize()"
   ]
  },
  {
   "cell_type": "code",
   "execution_count": 106,
   "metadata": {
    "scrolled": true
   },
   "outputs": [
    {
     "data": {
      "image/png": "[encoded data removed]",
      "text/plain": [
       "<Figure size 432x288 with 1 Axes>"
      ]
     },
     "metadata": {
      "needs_background": "light"
     },
     "output_type": "display_data"
    }
   ],
   "source": [
    "posterior_x0.make_cdf().plot(color='gray')\n",
    "posterior_x1.make_cdf().plot(color='gray')\n",
    "\n",
    "Cdf.from_seq(sample_x0).plot(label='$x_0$')\n",
    "Cdf.from_seq(sample_x1).plot(label='$x_1$')\n",
    "\n",
    "decorate(xlabel='Mean',\n",
    "         ylabel='CDF',\n",
    "         title='Posterior predictive distributions')"
   ]
  },
  {
   "cell_type": "markdown",
   "metadata": {},
   "source": [
    "## Bayesian linear regression"
   ]
  },
  {
   "cell_type": "markdown",
   "metadata": {},
   "source": [
    "## Generate data"
   ]
  },
  {
   "cell_type": "code",
   "execution_count": 107,
   "metadata": {},
   "outputs": [],
   "source": [
    "inter, slope = 5, 2\n",
    "sigma = 3\n",
    "n = 20"
   ]
  },
  {
   "cell_type": "code",
   "execution_count": 108,
   "metadata": {},
   "outputs": [
    {
     "data": {
      "image/png": "[encoded data removed]",
      "text/plain": [
       "<Figure size 432x288 with 1 Axes>"
      ]
     },
     "metadata": {
      "needs_background": "light"
     },
     "output_type": "display_data"
    }
   ],
   "source": [
    "xs = norm(0, 3).rvs(n)\n",
    "xs = np.sort(xs)\n",
    "ys = inter + slope * xs + norm(0, sigma).rvs(20)\n",
    "\n",
    "plt.plot(xs, ys, 'o');"
   ]
  },
  {
   "cell_type": "code",
   "execution_count": 109,
   "metadata": {},
   "outputs": [
    {
     "data": {
      "text/plain": [
       "array([[ 1.        , -7.14081558],\n",
       "       [ 1.        , -4.97056864],\n",
       "       [ 1.        , -4.14511327],\n",
       "       [ 1.        , -3.60699454],\n",
       "       [ 1.        , -2.34504973],\n",
       "       [ 1.        , -2.23070091],\n",
       "       [ 1.        , -2.01663514],\n",
       "       [ 1.        , -1.39495617],\n",
       "       [ 1.        , -0.25815572],\n",
       "       [ 1.        ,  0.13044382],\n",
       "       [ 1.        ,  0.50277724],\n",
       "       [ 1.        ,  0.86162368],\n",
       "       [ 1.        ,  0.88841408],\n",
       "       [ 1.        ,  1.0586777 ],\n",
       "       [ 1.        ,  1.06836983],\n",
       "       [ 1.        ,  3.02709536],\n",
       "       [ 1.        ,  3.44367206],\n",
       "       [ 1.        ,  4.03238237],\n",
       "       [ 1.        ,  4.76233222],\n",
       "       [ 1.        ,  5.68179196]])"
      ]
     },
     "execution_count": 109,
     "metadata": {},
     "output_type": "execute_result"
    }
   ],
   "source": [
    "import statsmodels.api as sm\n",
    "\n",
    "X = sm.add_constant(xs)\n",
    "X"
   ]
  },
  {
   "cell_type": "code",
   "execution_count": 110,
   "metadata": {},
   "outputs": [
    {
     "data": {
      "text/html": [
       "<table class=\"simpletable\">\n",
       "<caption>OLS Regression Results</caption>\n",
       "<tr>\n",
       "  <th>Dep. Variable:</th>            <td>y</td>        <th>  R-squared:         </th> <td>   0.855</td>\n",
       "</tr>\n",
       "<tr>\n",
       "  <th>Model:</th>                   <td>OLS</td>       <th>  Adj. R-squared:    </th> <td>   0.847</td>\n",
       "</tr>\n",
       "<tr>\n",
       "  <th>Method:</th>             <td>Least Squares</td>  <th>  F-statistic:       </th> <td>   106.2</td>\n",
       "</tr>\n",
       "<tr>\n",
       "  <th>Date:</th>             <td>Fri, 02 Oct 2020</td> <th>  Prob (F-statistic):</th> <td>5.61e-09</td>\n",
       "</tr>\n",
       "<tr>\n",
       "  <th>Time:</th>                 <td>11:57:54</td>     <th>  Log-Likelihood:    </th> <td> -45.605</td>\n",
       "</tr>\n",
       "<tr>\n",
       "  <th>No. Observations:</th>      <td>    20</td>      <th>  AIC:               </th> <td>   95.21</td>\n",
       "</tr>\n",
       "<tr>\n",
       "  <th>Df Residuals:</th>          <td>    18</td>      <th>  BIC:               </th> <td>   97.20</td>\n",
       "</tr>\n",
       "<tr>\n",
       "  <th>Df Model:</th>              <td>     1</td>      <th>                     </th>     <td> </td>   \n",
       "</tr>\n",
       "<tr>\n",
       "  <th>Covariance Type:</th>      <td>nonrobust</td>    <th>                     </th>     <td> </td>   \n",
       "</tr>\n",
       "</table>\n",
       "<table class=\"simpletable\">\n",
       "<tr>\n",
       "    <td></td>       <th>coef</th>     <th>std err</th>      <th>t</th>      <th>P>|t|</th>  <th>[0.025</th>    <th>0.975]</th>  \n",
       "</tr>\n",
       "<tr>\n",
       "  <th>const</th> <td>    5.0348</td> <td>    0.558</td> <td>    9.020</td> <td> 0.000</td> <td>    3.862</td> <td>    6.208</td>\n",
       "</tr>\n",
       "<tr>\n",
       "  <th>x1</th>    <td>    1.7393</td> <td>    0.169</td> <td>   10.305</td> <td> 0.000</td> <td>    1.385</td> <td>    2.094</td>\n",
       "</tr>\n",
       "</table>\n",
       "<table class=\"simpletable\">\n",
       "<tr>\n",
       "  <th>Omnibus:</th>       <td> 0.428</td> <th>  Durbin-Watson:     </th> <td>   2.059</td>\n",
       "</tr>\n",
       "<tr>\n",
       "  <th>Prob(Omnibus):</th> <td> 0.808</td> <th>  Jarque-Bera (JB):  </th> <td>   0.362</td>\n",
       "</tr>\n",
       "<tr>\n",
       "  <th>Skew:</th>          <td> 0.284</td> <th>  Prob(JB):          </th> <td>   0.834</td>\n",
       "</tr>\n",
       "<tr>\n",
       "  <th>Kurtosis:</th>      <td> 2.666</td> <th>  Cond. No.          </th> <td>    3.31</td>\n",
       "</tr>\n",
       "</table><br/><br/>Warnings:<br/>[1] Standard Errors assume that the covariance matrix of the errors is correctly specified."
      ],
      "text/plain": [
       "<class 'statsmodels.iolib.summary.Summary'>\n",
       "\"\"\"\n",
       "                            OLS Regression Results                            \n",
       "==============================================================================\n",
       "Dep. Variable:                      y   R-squared:                       0.855\n",
       "Model:                            OLS   Adj. R-squared:                  0.847\n",
       "Method:                 Least Squares   F-statistic:                     106.2\n",
       "Date:                Fri, 02 Oct 2020   Prob (F-statistic):           5.61e-09\n",
       "Time:                        11:57:54   Log-Likelihood:                -45.605\n",
       "No. Observations:                  20   AIC:                             95.21\n",
       "Df Residuals:                      18   BIC:                             97.20\n",
       "Df Model:                           1                                         \n",
       "Covariance Type:            nonrobust                                         \n",
       "==============================================================================\n",
       "                 coef    std err          t      P>|t|      [0.025      0.975]\n",
       "------------------------------------------------------------------------------\n",
       "const          5.0348      0.558      9.020      0.000       3.862       6.208\n",
       "x1             1.7393      0.169     10.305      0.000       1.385       2.094\n",
       "==============================================================================\n",
       "Omnibus:                        0.428   Durbin-Watson:                   2.059\n",
       "Prob(Omnibus):                  0.808   Jarque-Bera (JB):                0.362\n",
       "Skew:                           0.284   Prob(JB):                        0.834\n",
       "Kurtosis:                       2.666   Cond. No.                         3.31\n",
       "==============================================================================\n",
       "\n",
       "Warnings:\n",
       "[1] Standard Errors assume that the covariance matrix of the errors is correctly specified.\n",
       "\"\"\""
      ]
     },
     "execution_count": 110,
     "metadata": {},
     "output_type": "execute_result"
    }
   ],
   "source": [
    "model = sm.OLS(ys, X)\n",
    "results = model.fit()\n",
    "results.summary()"
   ]
  },
  {
   "cell_type": "code",
   "execution_count": 111,
   "metadata": {},
   "outputs": [
    {
     "data": {
      "text/plain": [
       "array([5.03484071, 1.73925656])"
      ]
     },
     "execution_count": 111,
     "metadata": {},
     "output_type": "execute_result"
    }
   ],
   "source": [
    "beta_hat = results.params\n",
    "beta_hat"
   ]
  },
  {
   "cell_type": "code",
   "execution_count": 112,
   "metadata": {},
   "outputs": [],
   "source": [
    "# k = results.df_model\n",
    "k = 2"
   ]
  },
  {
   "cell_type": "code",
   "execution_count": 113,
   "metadata": {},
   "outputs": [
    {
     "data": {
      "text/plain": [
       "6.22108448995537"
      ]
     },
     "execution_count": 113,
     "metadata": {},
     "output_type": "execute_result"
    }
   ],
   "source": [
    "s2 = results.resid @ results.resid / (n - k)\n",
    "s2"
   ]
  },
  {
   "cell_type": "code",
   "execution_count": 114,
   "metadata": {},
   "outputs": [
    {
     "data": {
      "text/plain": [
       "6.22108448995537"
      ]
     },
     "execution_count": 114,
     "metadata": {},
     "output_type": "execute_result"
    }
   ],
   "source": [
    "s2 = results.ssr / (n - k)\n",
    "s2"
   ]
  },
  {
   "cell_type": "code",
   "execution_count": 115,
   "metadata": {},
   "outputs": [
    {
     "data": {
      "text/plain": [
       "2.494210193619489"
      ]
     },
     "execution_count": 115,
     "metadata": {},
     "output_type": "execute_result"
    }
   ],
   "source": [
    "np.sqrt(s2)"
   ]
  },
  {
   "cell_type": "markdown",
   "metadata": {},
   "source": [
    "## Grid algorithm"
   ]
  },
  {
   "cell_type": "code",
   "execution_count": 116,
   "metadata": {},
   "outputs": [],
   "source": [
    "beta0s = np.linspace(2, 8, 71)\n",
    "prior_inter = Pmf(1, beta0s, name='inter')\n",
    "prior_inter.index.name = 'Intercept'"
   ]
  },
  {
   "cell_type": "code",
   "execution_count": 117,
   "metadata": {},
   "outputs": [],
   "source": [
    "beta1s = np.linspace(1, 3, 61)\n",
    "prior_slope = Pmf(1, beta1s, name='slope')\n",
    "prior_slope.index.name = 'Slope'"
   ]
  },
  {
   "cell_type": "code",
   "execution_count": 118,
   "metadata": {},
   "outputs": [
    {
     "data": {
      "image/png": "[encoded data removed]",
      "text/plain": [
       "<Figure size 432x288 with 1 Axes>"
      ]
     },
     "metadata": {
      "needs_background": "light"
     },
     "output_type": "display_data"
    }
   ],
   "source": [
    "sigmas = np.linspace(1, 6, 51)\n",
    "ps = sigmas**-2\n",
    "prior_sigma = Pmf(ps, sigmas, name='sigma')\n",
    "prior_sigma.index.name = 'Sigma'\n",
    "prior_sigma.normalize()\n",
    "\n",
    "prior_sigma.plot()"
   ]
  },
  {
   "cell_type": "code",
   "execution_count": 119,
   "metadata": {},
   "outputs": [],
   "source": [
    "from utils import make_joint\n",
    "\n",
    "def make_joint3(pmf1, pmf2, pmf3):\n",
    "    \"\"\"Make a joint distribution with three parameters.\n",
    "    \n",
    "    pmf1: Pmf object\n",
    "    pmf2: Pmf object\n",
    "    pmf3: Pmf object\n",
    "    \n",
    "    returns: Pmf representing a joint distribution\n",
    "    \"\"\"\n",
    "    joint2 = make_joint(pmf2, pmf1).stack()\n",
    "    joint3 = make_joint(pmf3, joint2).stack()\n",
    "    return Pmf(joint3)"
   ]
  },
  {
   "cell_type": "code",
   "execution_count": 120,
   "metadata": {},
   "outputs": [
    {
     "data": {
      "text/plain": [
       "Slope  Intercept  Sigma\n",
       "1.0    2.0        1.0      0.112819\n",
       "                  1.1      0.093239\n",
       "                  1.2      0.078346\n",
       "                  1.3      0.066757\n",
       "                  1.4      0.057561\n",
       "dtype: float64"
      ]
     },
     "execution_count": 120,
     "metadata": {},
     "output_type": "execute_result"
    }
   ],
   "source": [
    "prior3 = make_joint3(prior_slope, prior_inter, prior_sigma)\n",
    "prior3.head()"
   ]
  },
  {
   "cell_type": "code",
   "execution_count": 121,
   "metadata": {},
   "outputs": [],
   "source": [
    "from utils import normalize\n",
    "\n",
    "def update_optimized(prior, data):\n",
    "    \"\"\"Posterior distribution of regression parameters\n",
    "    `slope`, `inter`, and `sigma`.\n",
    "    \n",
    "    prior: Pmf representing the joint prior\n",
    "    data: DataFrame with columns `x` and `y`\n",
    "    \n",
    "    returns: Pmf representing the joint posterior\n",
    "    \"\"\"\n",
    "    xs = data['x']\n",
    "    ys = data['y']\n",
    "    sigmas = prior.columns\n",
    "    likelihood = prior.copy()\n",
    "\n",
    "    for slope, inter in prior.index:\n",
    "        expected = slope * xs + inter\n",
    "        resid = ys - expected\n",
    "        resid_mesh, sigma_mesh = np.meshgrid(resid, sigmas)\n",
    "        densities = norm.pdf(resid_mesh, 0, sigma_mesh)\n",
    "        likelihood.loc[slope, inter] = densities.prod(axis=1)\n",
    "        \n",
    "    posterior = prior * likelihood\n",
    "    normalize(posterior)\n",
    "    return posterior"
   ]
  },
  {
   "cell_type": "code",
   "execution_count": 122,
   "metadata": {},
   "outputs": [],
   "source": [
    "data = pd.DataFrame(dict(x=xs, y=ys))"
   ]
  },
  {
   "cell_type": "code",
   "execution_count": 123,
   "metadata": {},
   "outputs": [
    {
     "data": {
      "text/plain": [
       "1.0000000000000007"
      ]
     },
     "execution_count": 123,
     "metadata": {},
     "output_type": "execute_result"
    }
   ],
   "source": [
    "from utils import normalize\n",
    "\n",
    "posterior = update_optimized(prior3.unstack(), data)\n",
    "normalize(posterior)"
   ]
  },
  {
   "cell_type": "code",
   "execution_count": 124,
   "metadata": {},
   "outputs": [
    {
     "data": {
      "image/png": "[encoded data removed]",
      "text/plain": [
       "<Figure size 432x288 with 1 Axes>"
      ]
     },
     "metadata": {
      "needs_background": "light"
     },
     "output_type": "display_data"
    }
   ],
   "source": [
    "from utils import marginal\n",
    "\n",
    "posterior_sigma_grid = marginal(posterior, 0)\n",
    "posterior_sigma_grid.plot(label='grid')\n",
    "\n",
    "decorate(title='Posterior distribution of sigma')"
   ]
  },
  {
   "cell_type": "code",
   "execution_count": 125,
   "metadata": {},
   "outputs": [
    {
     "data": {
      "text/plain": [
       "<matplotlib.contour.QuadContourSet at 0x7fee73788f50>"
      ]
     },
     "execution_count": 125,
     "metadata": {},
     "output_type": "execute_result"
    },
    {
     "data": {
      "image/png": "[encoded data removed]",
      "text/plain": [
       "<Figure size 432x288 with 1 Axes>"
      ]
     },
     "metadata": {
      "needs_background": "light"
     },
     "output_type": "display_data"
    }
   ],
   "source": [
    "joint_posterior = marginal(posterior, 1).unstack()\n",
    "plot_contour(joint_posterior)"
   ]
  },
  {
   "cell_type": "code",
   "execution_count": 126,
   "metadata": {},
   "outputs": [],
   "source": [
    "posterior_beta0_grid = marginal(joint_posterior, 0)\n",
    "posterior_beta1_grid = marginal(joint_posterior, 1)"
   ]
  },
  {
   "cell_type": "code",
   "execution_count": 127,
   "metadata": {},
   "outputs": [
    {
     "data": {
      "image/png": "[encoded data removed]",
      "text/plain": [
       "<Figure size 432x288 with 1 Axes>"
      ]
     },
     "metadata": {
      "needs_background": "light"
     },
     "output_type": "display_data"
    }
   ],
   "source": [
    "posterior_beta0_grid.make_cdf().plot(label=r'$\\beta_0$')\n",
    "posterior_beta1_grid.make_cdf().plot(label=r'$\\beta_1$')\n",
    "\n",
    "decorate(title='Posterior distributions of parameters')"
   ]
  },
  {
   "cell_type": "markdown",
   "metadata": {},
   "source": [
    "## Posterior distribution of sigma"
   ]
  },
  {
   "cell_type": "markdown",
   "metadata": {},
   "source": [
    "According to Gelman et al, the posterior distribution of $\\sigma^2$ is scaled inverse chi2 with $\\nu=n-k$ and scale $s^2$.\n",
    "\n",
    "According to [Wikipedia](https://en.wikipedia.org/wiki/Scaled_inverse_chi-squared_distribution), that's equivalent to inverse gamma with parameters $\\nu/2$ and $\\nu s^2 / 2$."
   ]
  },
  {
   "cell_type": "code",
   "execution_count": 128,
   "metadata": {},
   "outputs": [
    {
     "data": {
      "text/plain": [
       "(9.0, 55.98976040959833)"
      ]
     },
     "execution_count": 128,
     "metadata": {},
     "output_type": "execute_result"
    }
   ],
   "source": [
    "nu = n-k\n",
    "nu/2, nu*s2/2"
   ]
  },
  {
   "cell_type": "code",
   "execution_count": 129,
   "metadata": {},
   "outputs": [
    {
     "data": {
      "text/plain": [
       "6.998720051199792"
      ]
     },
     "execution_count": 129,
     "metadata": {},
     "output_type": "execute_result"
    }
   ],
   "source": [
    "from scipy.stats import invgamma\n",
    "\n",
    "dist_sigma2 = invgamma(nu/2, scale=nu*s2/2)\n",
    "dist_sigma2.mean()"
   ]
  },
  {
   "cell_type": "code",
   "execution_count": 130,
   "metadata": {},
   "outputs": [
    {
     "data": {
      "text/plain": [
       "3.3339841667914865"
      ]
     },
     "execution_count": 130,
     "metadata": {},
     "output_type": "execute_result"
    }
   ],
   "source": [
    "sigma2s = np.linspace(0.01, 30, 101)\n",
    "ps = dist_sigma2.pdf(sigma2s)\n",
    "posterior_sigma2_invgamma = Pmf(ps, sigma2s)\n",
    "posterior_sigma2_invgamma.normalize()"
   ]
  },
  {
   "cell_type": "code",
   "execution_count": 131,
   "metadata": {},
   "outputs": [
    {
     "data": {
      "image/png": "[encoded data removed]",
      "text/plain": [
       "<Figure size 432x288 with 1 Axes>"
      ]
     },
     "metadata": {
      "needs_background": "light"
     },
     "output_type": "display_data"
    }
   ],
   "source": [
    "posterior_sigma2_invgamma.plot()"
   ]
  },
  {
   "cell_type": "code",
   "execution_count": 132,
   "metadata": {},
   "outputs": [
    {
     "data": {
      "text/plain": [
       "3.3339841667914865"
      ]
     },
     "execution_count": 132,
     "metadata": {},
     "output_type": "execute_result"
    }
   ],
   "source": [
    "sigmas = np.sqrt(sigma2s)\n",
    "posterior_sigma_invgamma = Pmf(ps, sigmas)\n",
    "posterior_sigma_invgamma.normalize()"
   ]
  },
  {
   "cell_type": "code",
   "execution_count": 133,
   "metadata": {},
   "outputs": [
    {
     "data": {
      "text/plain": [
       "(2.6040683822952175, 2.5288743440109838)"
      ]
     },
     "execution_count": 133,
     "metadata": {},
     "output_type": "execute_result"
    }
   ],
   "source": [
    "posterior_sigma_invgamma.mean(), posterior_sigma_grid.mean()"
   ]
  },
  {
   "cell_type": "code",
   "execution_count": 134,
   "metadata": {},
   "outputs": [
    {
     "data": {
      "image/png": "[encoded data removed]",
      "text/plain": [
       "<Figure size 432x288 with 1 Axes>"
      ]
     },
     "metadata": {
      "needs_background": "light"
     },
     "output_type": "display_data"
    }
   ],
   "source": [
    "posterior_sigma_grid.make_cdf().plot(color='gray', label='grid')\n",
    "posterior_sigma_invgamma.make_cdf().plot(label='invgamma')\n",
    "\n",
    "decorate(title='Posterior distribution of sigma')"
   ]
  },
  {
   "cell_type": "markdown",
   "metadata": {},
   "source": [
    "## Posterior distribution of sigma, updatable version\n",
    "\n",
    "Per the Wikipedia page: https://en.wikipedia.org/wiki/Bayesian_linear_regression"
   ]
  },
  {
   "cell_type": "code",
   "execution_count": 135,
   "metadata": {},
   "outputs": [
    {
     "data": {
      "text/plain": [
       "array([[ 20.        ,  -2.65140939],\n",
       "       [ -2.65140939, 218.75336987]])"
      ]
     },
     "execution_count": 135,
     "metadata": {},
     "output_type": "execute_result"
    }
   ],
   "source": [
    "Lambda_0 = np.zeros((k, k))\n",
    "Lambda_n = Lambda_0 + X.T @ X\n",
    "Lambda_n"
   ]
  },
  {
   "cell_type": "code",
   "execution_count": 136,
   "metadata": {},
   "outputs": [
    {
     "data": {
      "text/plain": [
       "array([5.03484071, 1.73925656])"
      ]
     },
     "execution_count": 136,
     "metadata": {},
     "output_type": "execute_result"
    }
   ],
   "source": [
    "mu_0 = np.zeros(k)\n",
    "mu_n = inv(Lambda_n) @ (Lambda_0 @ mu_0 + X.T @ X @ beta_hat)\n",
    "mu_n"
   ]
  },
  {
   "cell_type": "code",
   "execution_count": 137,
   "metadata": {},
   "outputs": [
    {
     "data": {
      "text/plain": [
       "10.0"
      ]
     },
     "execution_count": 137,
     "metadata": {},
     "output_type": "execute_result"
    }
   ],
   "source": [
    "a_0 = 0\n",
    "a_n = a_0 + n / 2\n",
    "a_n"
   ]
  },
  {
   "cell_type": "code",
   "execution_count": 138,
   "metadata": {},
   "outputs": [
    {
     "data": {
      "text/plain": [
       "55.9897604095986"
      ]
     },
     "execution_count": 138,
     "metadata": {},
     "output_type": "execute_result"
    }
   ],
   "source": [
    "b_0 = 0\n",
    "b_n = b_0 + (ys.T @ ys + \n",
    "             mu_0.T @ Lambda_0 @ mu_0 - \n",
    "             mu_n.T @ Lambda_n @ mu_n) / 2\n",
    "b_n"
   ]
  },
  {
   "cell_type": "code",
   "execution_count": 139,
   "metadata": {},
   "outputs": [
    {
     "data": {
      "text/plain": [
       "(10.0, 9.0)"
      ]
     },
     "execution_count": 139,
     "metadata": {},
     "output_type": "execute_result"
    }
   ],
   "source": [
    "a_n, nu/2"
   ]
  },
  {
   "cell_type": "code",
   "execution_count": 140,
   "metadata": {},
   "outputs": [
    {
     "data": {
      "text/plain": [
       "(55.9897604095986, 55.98976040959833)"
      ]
     },
     "execution_count": 140,
     "metadata": {},
     "output_type": "execute_result"
    }
   ],
   "source": [
    "b_n, nu * s2 / 2"
   ]
  },
  {
   "cell_type": "markdown",
   "metadata": {},
   "source": [
    "## Sampling the posterior of the parameters"
   ]
  },
  {
   "cell_type": "code",
   "execution_count": 141,
   "metadata": {},
   "outputs": [],
   "source": [
    "sample_sigma2 = dist_sigma2.rvs(1000)"
   ]
  },
  {
   "cell_type": "code",
   "execution_count": 142,
   "metadata": {},
   "outputs": [],
   "source": [
    "sample_sigma = np.sqrt(sample_sigma2)"
   ]
  },
  {
   "cell_type": "code",
   "execution_count": 143,
   "metadata": {},
   "outputs": [
    {
     "data": {
      "text/plain": [
       "array([[0.05008047, 0.000607  ],\n",
       "       [0.000607  , 0.00457872]])"
      ]
     },
     "execution_count": 143,
     "metadata": {},
     "output_type": "execute_result"
    }
   ],
   "source": [
    "from scipy.linalg import inv\n",
    "\n",
    "V_beta = inv(X.T @ X)\n",
    "V_beta"
   ]
  },
  {
   "cell_type": "code",
   "execution_count": 144,
   "metadata": {},
   "outputs": [],
   "source": [
    "sample_beta = [multivariate_normal(beta_hat, V_beta * sigma2).rvs()\n",
    "               for sigma2 in sample_sigma2]"
   ]
  },
  {
   "cell_type": "code",
   "execution_count": 145,
   "metadata": {},
   "outputs": [
    {
     "data": {
      "text/plain": [
       "array([5.04511233, 1.74339804])"
      ]
     },
     "execution_count": 145,
     "metadata": {},
     "output_type": "execute_result"
    }
   ],
   "source": [
    "np.mean(sample_beta, axis=0)"
   ]
  },
  {
   "cell_type": "code",
   "execution_count": 146,
   "metadata": {},
   "outputs": [
    {
     "data": {
      "text/plain": [
       "array([5.03484071, 1.73925656])"
      ]
     },
     "execution_count": 146,
     "metadata": {},
     "output_type": "execute_result"
    }
   ],
   "source": [
    "beta_hat"
   ]
  },
  {
   "cell_type": "code",
   "execution_count": 147,
   "metadata": {},
   "outputs": [
    {
     "data": {
      "text/plain": [
       "array([0.58586532, 0.17427858])"
      ]
     },
     "execution_count": 147,
     "metadata": {},
     "output_type": "execute_result"
    }
   ],
   "source": [
    "np.std(sample_beta, axis=0)"
   ]
  },
  {
   "cell_type": "code",
   "execution_count": 148,
   "metadata": {},
   "outputs": [
    {
     "data": {
      "text/plain": [
       "array([0.55817098, 0.16877374])"
      ]
     },
     "execution_count": 148,
     "metadata": {},
     "output_type": "execute_result"
    }
   ],
   "source": [
    "results.bse"
   ]
  },
  {
   "cell_type": "code",
   "execution_count": 149,
   "metadata": {},
   "outputs": [],
   "source": [
    "sample_beta0, sample_beta1 = np.transpose(sample_beta)"
   ]
  },
  {
   "cell_type": "code",
   "execution_count": 150,
   "metadata": {},
   "outputs": [
    {
     "data": {
      "image/png": "[encoded data removed]",
      "text/plain": [
       "<Figure size 432x288 with 1 Axes>"
      ]
     },
     "metadata": {
      "needs_background": "light"
     },
     "output_type": "display_data"
    }
   ],
   "source": [
    "Cdf.from_seq(sample_beta0).plot(label=r'$\\beta_0$')\n",
    "Cdf.from_seq(sample_beta1).plot(label=r'$\\beta_1$')\n",
    "\n",
    "decorate(title='Posterior distributions of the parameters')"
   ]
  },
  {
   "cell_type": "markdown",
   "metadata": {},
   "source": [
    "## Multivariate student t\n",
    "\n",
    "Let's use [this implementation](http://gregorygundersen.com/blog/2020/01/20/multivariate-t/)"
   ]
  },
  {
   "cell_type": "code",
   "execution_count": 151,
   "metadata": {},
   "outputs": [],
   "source": [
    "from scipy.special import gammaln\n",
    "\n",
    "def multistudent_pdf(x, mean, shape, df):\n",
    "    return np.exp(logpdf(x, mean, shape, df))\n",
    "\n",
    "def logpdf(x, mean, shape, df):\n",
    "    # TODO: send the suggestion to use `mean`\n",
    "    # rather than `x` to determine p\n",
    "    p = len(mean)\n",
    "\n",
    "    vals, vecs = np.linalg.eigh(shape)\n",
    "    logdet     = np.log(vals).sum()\n",
    "    valsinv    = np.array([1.0/v for v in vals])\n",
    "    U          = vecs * np.sqrt(valsinv)\n",
    "    dev        = x - mean\n",
    "    maha       = np.square(dev @ U).sum(axis=-1)\n",
    "\n",
    "    t = 0.5 * (df + p)\n",
    "    A = gammaln(t)\n",
    "    B = gammaln(0.5 * df)\n",
    "    C = p/2. * np.log(df * np.pi)\n",
    "    D = 0.5 * logdet\n",
    "    E = -t * np.log(1 + (1./df) * maha)\n",
    "\n",
    "    return A - B - C - D + E"
   ]
  },
  {
   "cell_type": "code",
   "execution_count": 152,
   "metadata": {},
   "outputs": [
    {
     "data": {
      "text/plain": [
       "1.690819342500572"
      ]
     },
     "execution_count": 152,
     "metadata": {},
     "output_type": "execute_result"
    }
   ],
   "source": [
    "x = beta_hat\n",
    "mean = beta_hat\n",
    "df = (n - k)\n",
    "shape = (V_beta * s2)\n",
    "multistudent_pdf(x, mean, shape, df)"
   ]
  },
  {
   "cell_type": "code",
   "execution_count": 153,
   "metadata": {},
   "outputs": [
    {
     "data": {
      "text/plain": [
       "(2.899370980902629, 7.132304794886583)"
      ]
     },
     "execution_count": 153,
     "metadata": {},
     "output_type": "execute_result"
    }
   ],
   "source": [
    "low, high = sample_beta0.min(), sample_beta0.max()\n",
    "low, high"
   ]
  },
  {
   "cell_type": "code",
   "execution_count": 154,
   "metadata": {},
   "outputs": [],
   "source": [
    "beta0s = np.linspace(0.9*low, 1.1*high, 101)"
   ]
  },
  {
   "cell_type": "code",
   "execution_count": 155,
   "metadata": {},
   "outputs": [],
   "source": [
    "low, high = sample_beta1.min(), sample_beta1.max()"
   ]
  },
  {
   "cell_type": "code",
   "execution_count": 156,
   "metadata": {},
   "outputs": [],
   "source": [
    "beta1s = np.linspace(0.9*low, 1.1*high, 91)"
   ]
  },
  {
   "cell_type": "code",
   "execution_count": 157,
   "metadata": {},
   "outputs": [],
   "source": [
    "beta0_mesh, beta1_mesh = np.meshgrid(beta0s, beta1s)"
   ]
  },
  {
   "cell_type": "code",
   "execution_count": 158,
   "metadata": {},
   "outputs": [
    {
     "data": {
      "text/plain": [
       "(91, 101, 2)"
      ]
     },
     "execution_count": 158,
     "metadata": {},
     "output_type": "execute_result"
    }
   ],
   "source": [
    "beta_mesh = np.dstack(np.meshgrid(beta0s, beta1s))\n",
    "beta_mesh.shape"
   ]
  },
  {
   "cell_type": "code",
   "execution_count": 159,
   "metadata": {},
   "outputs": [
    {
     "data": {
      "text/plain": [
       "(91, 101)"
      ]
     },
     "execution_count": 159,
     "metadata": {},
     "output_type": "execute_result"
    }
   ],
   "source": [
    "ps = multistudent_pdf(beta_mesh, mean, shape, df)\n",
    "ps.shape"
   ]
  },
  {
   "cell_type": "code",
   "execution_count": 160,
   "metadata": {},
   "outputs": [],
   "source": [
    "joint = pd.DataFrame(ps, columns=beta0s, index=beta1s)"
   ]
  },
  {
   "cell_type": "code",
   "execution_count": 161,
   "metadata": {},
   "outputs": [
    {
     "data": {
      "text/plain": [
       "1069.6943385401676"
      ]
     },
     "execution_count": 161,
     "metadata": {},
     "output_type": "execute_result"
    }
   ],
   "source": [
    "from utils import normalize\n",
    "\n",
    "normalize(joint)"
   ]
  },
  {
   "cell_type": "code",
   "execution_count": 162,
   "metadata": {},
   "outputs": [
    {
     "data": {
      "image/png": "[encoded data removed]",
      "text/plain": [
       "<Figure size 432x288 with 1 Axes>"
      ]
     },
     "metadata": {
      "needs_background": "light"
     },
     "output_type": "display_data"
    }
   ],
   "source": [
    "from utils import plot_contour\n",
    "\n",
    "plot_contour(joint)\n",
    "decorate(xlabel=r'$\\beta_0$',\n",
    "         ylabel=r'$\\beta_1$')"
   ]
  },
  {
   "cell_type": "code",
   "execution_count": 163,
   "metadata": {},
   "outputs": [],
   "source": [
    "marginal_beta0_student = marginal(joint, 0)\n",
    "marginal_beta1_student = marginal(joint, 1)"
   ]
  },
  {
   "cell_type": "code",
   "execution_count": 164,
   "metadata": {},
   "outputs": [
    {
     "data": {
      "image/png": "[encoded data removed]",
      "text/plain": [
       "<Figure size 432x288 with 1 Axes>"
      ]
     },
     "metadata": {
      "needs_background": "light"
     },
     "output_type": "display_data"
    }
   ],
   "source": [
    "from utils import marginal\n",
    "\n",
    "posterior_beta0_grid.make_cdf().plot(color='gray', label=r'grid $\\beta_0$')\n",
    "posterior_beta1_grid.make_cdf().plot(color='gray', label=r'grid $\\beta_1$')\n",
    "\n",
    "marginal_beta0_student.make_cdf().plot(label=r'student $\\beta_0$', color='gray')\n",
    "marginal_beta1_student.make_cdf().plot(label=r'student $\\beta_0$', color='gray')\n",
    "\n",
    "Cdf.from_seq(sample_beta0).plot(label=r'sample $\\beta_0$')\n",
    "Cdf.from_seq(sample_beta1).plot(label=r'sample $\\beta_1$')\n",
    "\n",
    "decorate()"
   ]
  },
  {
   "cell_type": "markdown",
   "metadata": {},
   "source": [
    "## Sampling the predictive distribution"
   ]
  },
  {
   "cell_type": "code",
   "execution_count": 165,
   "metadata": {},
   "outputs": [
    {
     "data": {
      "text/plain": [
       "(1000, 20)"
      ]
     },
     "execution_count": 165,
     "metadata": {},
     "output_type": "execute_result"
    }
   ],
   "source": [
    "t = [X @ beta + norm(0, sigma).rvs(n)\n",
    "     for beta, sigma in zip(sample_beta, sample_sigma)]\n",
    "predictions = np.array(t)\n",
    "predictions.shape"
   ]
  },
  {
   "cell_type": "code",
   "execution_count": 166,
   "metadata": {},
   "outputs": [],
   "source": [
    "low, median, high = np.percentile(predictions, [5, 50, 95], axis=0)"
   ]
  },
  {
   "cell_type": "code",
   "execution_count": 167,
   "metadata": {},
   "outputs": [
    {
     "data": {
      "text/plain": [
       "<matplotlib.collections.PolyCollection at 0x7fee722c9a90>"
      ]
     },
     "execution_count": 167,
     "metadata": {},
     "output_type": "execute_result"
    },
    {
     "data": {
      "image/png": "[encoded data removed]",
      "text/plain": [
       "<Figure size 432x288 with 1 Axes>"
      ]
     },
     "metadata": {
      "needs_background": "light"
     },
     "output_type": "display_data"
    }
   ],
   "source": [
    "plt.plot(xs, ys, 'o')\n",
    "plt.plot(xs, median)\n",
    "plt.fill_between(xs, low, high, color='C1', alpha=0.3)"
   ]
  },
  {
   "cell_type": "markdown",
   "metadata": {},
   "source": [
    "## Modeling the predictive distribution"
   ]
  },
  {
   "cell_type": "code",
   "execution_count": 172,
   "metadata": {},
   "outputs": [
    {
     "data": {
      "text/plain": [
       "array([[1., 1.],\n",
       "       [1., 2.],\n",
       "       [1., 3.]])"
      ]
     },
     "execution_count": 172,
     "metadata": {},
     "output_type": "execute_result"
    }
   ],
   "source": [
    "xnew = [1, 2, 3]\n",
    "Xnew = sm.add_constant(xnew)\n",
    "Xnew"
   ]
  },
  {
   "cell_type": "code",
   "execution_count": 183,
   "metadata": {},
   "outputs": [
    {
     "data": {
      "text/plain": [
       "(1000, 3)"
      ]
     },
     "execution_count": 183,
     "metadata": {},
     "output_type": "execute_result"
    }
   ],
   "source": [
    "t = [Xnew @ beta + norm(0, sigma).rvs(len(xnew))\n",
    "     for beta, sigma in zip(sample_beta, sample_sigma)]\n",
    "predictions = np.array(t)\n",
    "predictions.shape"
   ]
  },
  {
   "cell_type": "code",
   "execution_count": 186,
   "metadata": {},
   "outputs": [
    {
     "data": {
      "image/png": "[encoded data removed]",
      "text/plain": [
       "<Figure size 432x288 with 1 Axes>"
      ]
     },
     "metadata": {
      "needs_background": "light"
     },
     "output_type": "display_data"
    }
   ],
   "source": [
    "x0, x1, x2 = predictions.T\n",
    "\n",
    "Cdf.from_seq(x0).plot()\n",
    "Cdf.from_seq(x1).plot()\n",
    "Cdf.from_seq(x2).plot()"
   ]
  },
  {
   "cell_type": "code",
   "execution_count": null,
   "metadata": {},
   "outputs": [],
   "source": []
  },
  {
   "cell_type": "code",
   "execution_count": null,
   "metadata": {},
   "outputs": [],
   "source": []
  },
  {
   "cell_type": "code",
   "execution_count": 173,
   "metadata": {},
   "outputs": [
    {
     "data": {
      "text/plain": [
       "array([ 6.77409728,  8.51335384, 10.2526104 ])"
      ]
     },
     "execution_count": 173,
     "metadata": {},
     "output_type": "execute_result"
    }
   ],
   "source": [
    "mu_new = Xnew @ beta_hat\n",
    "mu_new"
   ]
  },
  {
   "cell_type": "code",
   "execution_count": 180,
   "metadata": {},
   "outputs": [
    {
     "data": {
      "text/plain": [
       "array([[6.56867633, 0.37985263, 0.41211342],\n",
       "       [0.37985263, 6.66168248, 0.50134336],\n",
       "       [0.41211342, 0.50134336, 6.81165779]])"
      ]
     },
     "execution_count": 180,
     "metadata": {},
     "output_type": "execute_result"
    }
   ],
   "source": [
    "cov_new = s2 * (np.eye(len(xnew)) + Xnew @ V_beta @ Xnew.T)\n",
    "cov_new"
   ]
  },
  {
   "cell_type": "code",
   "execution_count": 181,
   "metadata": {},
   "outputs": [
    {
     "data": {
      "text/plain": [
       "0.0038518551666337944"
      ]
     },
     "execution_count": 181,
     "metadata": {},
     "output_type": "execute_result"
    }
   ],
   "source": [
    "x = mu_new\n",
    "mean = mu_new\n",
    "df = (n - k)\n",
    "shape = cov_new\n",
    "multistudent_pdf(x, mean, shape, df)"
   ]
  },
  {
   "cell_type": "code",
   "execution_count": 200,
   "metadata": {},
   "outputs": [],
   "source": [
    "y1s = np.linspace(0, 20, 51)\n",
    "y0s = np.linspace(0, 20, 61)\n",
    "y2s = np.linspace(0, 20, 71)"
   ]
  },
  {
   "cell_type": "code",
   "execution_count": 201,
   "metadata": {},
   "outputs": [
    {
     "data": {
      "text/plain": [
       "(51, 61, 71, 3)"
      ]
     },
     "execution_count": 201,
     "metadata": {},
     "output_type": "execute_result"
    }
   ],
   "source": [
    "mesh = np.stack(np.meshgrid(y0s, y1s, y2s), axis=-1)\n",
    "mesh.shape"
   ]
  },
  {
   "cell_type": "code",
   "execution_count": 202,
   "metadata": {},
   "outputs": [
    {
     "data": {
      "text/plain": [
       "(51, 61, 71)"
      ]
     },
     "execution_count": 202,
     "metadata": {},
     "output_type": "execute_result"
    }
   ],
   "source": [
    "ps = multistudent_pdf(mesh, mean, shape, df)\n",
    "ps.shape"
   ]
  },
  {
   "cell_type": "code",
   "execution_count": 220,
   "metadata": {},
   "outputs": [
    {
     "data": {
      "text/plain": [
       "1.0000000000000004"
      ]
     },
     "execution_count": 220,
     "metadata": {},
     "output_type": "execute_result"
    }
   ],
   "source": [
    "ps /= ps.sum()\n",
    "ps.sum()"
   ]
  },
  {
   "cell_type": "code",
   "execution_count": 221,
   "metadata": {},
   "outputs": [
    {
     "data": {
      "text/plain": [
       "(51,)"
      ]
     },
     "execution_count": 221,
     "metadata": {},
     "output_type": "execute_result"
    }
   ],
   "source": [
    "p1s = ps.sum(axis=1).sum(axis=1)\n",
    "p1s.shape"
   ]
  },
  {
   "cell_type": "code",
   "execution_count": 222,
   "metadata": {},
   "outputs": [
    {
     "data": {
      "text/plain": [
       "(61,)"
      ]
     },
     "execution_count": 222,
     "metadata": {},
     "output_type": "execute_result"
    }
   ],
   "source": [
    "p0s = ps.sum(axis=0).sum(axis=1)\n",
    "p0s.shape"
   ]
  },
  {
   "cell_type": "code",
   "execution_count": 223,
   "metadata": {},
   "outputs": [
    {
     "data": {
      "text/plain": [
       "(71,)"
      ]
     },
     "execution_count": 223,
     "metadata": {},
     "output_type": "execute_result"
    }
   ],
   "source": [
    "p2s = ps.sum(axis=0).sum(axis=0)\n",
    "p2s.shape"
   ]
  },
  {
   "cell_type": "code",
   "execution_count": 225,
   "metadata": {},
   "outputs": [
    {
     "data": {
      "text/plain": [
       "(6.832437207246759, 8.53089151948943, 10.254817832677237)"
      ]
     },
     "execution_count": 225,
     "metadata": {},
     "output_type": "execute_result"
    }
   ],
   "source": [
    "pmf_y0 = Pmf(p0s, y0s)\n",
    "pmf_y1 = Pmf(p1s, y1s)\n",
    "pmf_y2 = Pmf(p2s, y2s)\n",
    "\n",
    "pmf_y0.mean(), pmf_y1.mean(), pmf_y2.mean()"
   ]
  },
  {
   "cell_type": "code",
   "execution_count": 229,
   "metadata": {},
   "outputs": [
    {
     "data": {
      "image/png": "[encoded data removed]",
      "text/plain": [
       "<Figure size 432x288 with 1 Axes>"
      ]
     },
     "metadata": {
      "needs_background": "light"
     },
     "output_type": "display_data"
    }
   ],
   "source": [
    "pmf_y0.make_cdf().plot(color='gray')\n",
    "pmf_y1.make_cdf().plot(color='gray')\n",
    "pmf_y2.make_cdf().plot(color='gray')\n",
    "\n",
    "Cdf.from_seq(x0).plot()\n",
    "Cdf.from_seq(x1).plot()\n",
    "Cdf.from_seq(x2).plot()"
   ]
  },
  {
   "cell_type": "code",
   "execution_count": 168,
   "metadata": {},
   "outputs": [
    {
     "ename": "NameError",
     "evalue": "name 'stop' is not defined",
     "output_type": "error",
     "traceback": [
      "\u001b[0;31m---------------------------------------------------------------------------\u001b[0m",
      "\u001b[0;31mNameError\u001b[0m                                 Traceback (most recent call last)",
      "\u001b[0;32m<ipython-input-168-4f76a9dad686>\u001b[0m in \u001b[0;36m<module>\u001b[0;34m\u001b[0m\n\u001b[0;32m----> 1\u001b[0;31m \u001b[0mstop\u001b[0m\u001b[0;34m\u001b[0m\u001b[0;34m\u001b[0m\u001b[0m\n\u001b[0m",
      "\u001b[0;31mNameError\u001b[0m: name 'stop' is not defined"
     ]
    }
   ],
   "source": [
    "stop"
   ]
  },
  {
   "cell_type": "markdown",
   "metadata": {},
   "source": [
    "## Leftovers"
   ]
  },
  {
   "cell_type": "markdown",
   "metadata": {},
   "source": [
    "Related discussion saved for the future\n",
    "\n",
    "https://stats.stackexchange.com/questions/78177/posterior-covariance-of-normal-inverse-wishart-not-converging-properly"
   ]
  },
  {
   "cell_type": "code",
   "execution_count": null,
   "metadata": {},
   "outputs": [],
   "source": [
    "from scipy.stats import chi2\n",
    "\n",
    "\n",
    "class NormalInverseWishartDistribution(object):\n",
    "    def __init__(self, mu, lmbda, nu, psi):\n",
    "        self.mu = mu\n",
    "        self.lmbda = float(lmbda)\n",
    "        self.nu = nu\n",
    "        self.psi = psi\n",
    "        self.inv_psi = np.linalg.inv(psi)\n",
    "\n",
    "    def sample(self):\n",
    "        sigma = np.linalg.inv(self.wishartrand())\n",
    "        return (np.random.multivariate_normal(self.mu, sigma / self.lmbda), sigma)\n",
    "\n",
    "    def wishartrand(self):\n",
    "        dim = self.inv_psi.shape[0]\n",
    "        chol = np.linalg.cholesky(self.inv_psi)\n",
    "        foo = np.zeros((dim,dim))\n",
    "\n",
    "        for i in range(dim):\n",
    "            for j in range(i+1):\n",
    "                if i == j:\n",
    "                    foo[i,j] = np.sqrt(chi2.rvs(self.nu-(i+1)+1))\n",
    "                else:\n",
    "                    foo[i,j]  = np.random.normal(0,1)\n",
    "        return np.dot(chol, np.dot(foo, np.dot(foo.T, chol.T)))\n",
    "\n",
    "    def posterior(self, data):\n",
    "        n = len(data)\n",
    "        mean_data = np.mean(data, axis=0)\n",
    "        sum_squares = np.sum([np.array(np.matrix(x - mean_data).T * np.matrix(x - mean_data)) for x in data], axis=0)\n",
    "        mu_n = (self.lmbda * self.mu + n * mean_data) / (self.lmbda + n)\n",
    "        lmbda_n = self.lmbda + n\n",
    "        nu_n = self.nu + n\n",
    "        dev = mean_data - self.mu\n",
    "        psi_n = (self.psi + sum_squares + \n",
    "                 self.lmbda * n / (self.lmbda + n) * np.array(dev.T @ dev))\n",
    "        return NormalInverseWishartDistribution(mu_n, lmbda_n, nu_n, psi_n)\n",
    "\n",
    "    \n",
    "\n",
    "x = NormalInverseWishartDistribution(np.array([0,0])-3,1,3,np.eye(2))\n",
    "samples = [x.sample() for _ in range(100)]\n",
    "data = [np.random.multivariate_normal(mu,cov) for mu,cov in samples]\n",
    "y = NormalInverseWishartDistribution(np.array([0,0]),1,3,np.eye(2))\n",
    "z = y.posterior(data)\n",
    "\n",
    "print('mu_n: {0}'.format(z.mu))\n",
    "\n",
    "print('psi_n: {0}'.format(z.psi))"
   ]
  },
  {
   "cell_type": "code",
   "execution_count": null,
   "metadata": {},
   "outputs": [],
   "source": []
  },
  {
   "cell_type": "code",
   "execution_count": null,
   "metadata": {},
   "outputs": [],
   "source": []
  },
  {
   "cell_type": "code",
   "execution_count": null,
   "metadata": {},
   "outputs": [],
   "source": []
  },
  {
   "cell_type": "code",
   "execution_count": null,
   "metadata": {},
   "outputs": [],
   "source": [
    "from scipy.linalg import inv\n",
    "from scipy.linalg import cholesky\n",
    "\n",
    "def wishartrand(nu, Lambda):\n",
    "    d, _ = Lambda.shape\n",
    "    chol = cholesky(Lambda)\n",
    "    foo = np.empty((d, d))\n",
    "\n",
    "    for i in range(d):\n",
    "        for j in range(i+1):\n",
    "            if i == j:\n",
    "                foo[i,j] = np.sqrt(chi2.rvs(nu-(i+1)+1))\n",
    "            else:\n",
    "                foo[i,j] = np.random.normal(0, 1)\n",
    "                \n",
    "    return np.dot(chol, np.dot(foo, np.dot(foo.T, chol.T)))"
   ]
  },
  {
   "cell_type": "code",
   "execution_count": null,
   "metadata": {},
   "outputs": [],
   "source": [
    "sample = [wishartrand(nu_n, Lambda_n) for i in range(1000)]"
   ]
  },
  {
   "cell_type": "code",
   "execution_count": null,
   "metadata": {},
   "outputs": [],
   "source": [
    "np.mean(sample, axis=0)"
   ]
  },
  {
   "cell_type": "code",
   "execution_count": null,
   "metadata": {},
   "outputs": [],
   "source": [
    "Lambda_n"
   ]
  },
  {
   "cell_type": "code",
   "execution_count": null,
   "metadata": {},
   "outputs": [],
   "source": []
  },
  {
   "cell_type": "code",
   "execution_count": null,
   "metadata": {},
   "outputs": [],
   "source": []
  },
  {
   "cell_type": "code",
   "execution_count": null,
   "metadata": {},
   "outputs": [],
   "source": []
  },
  {
   "cell_type": "code",
   "execution_count": null,
   "metadata": {},
   "outputs": [],
   "source": []
  },
  {
   "cell_type": "code",
   "execution_count": null,
   "metadata": {},
   "outputs": [],
   "source": []
  },
  {
   "cell_type": "code",
   "execution_count": null,
   "metadata": {},
   "outputs": [],
   "source": []
  },
  {
   "cell_type": "code",
   "execution_count": null,
   "metadata": {},
   "outputs": [],
   "source": []
  }
 ],
 "metadata": {
  "kernelspec": {
   "display_name": "Python 3",
   "language": "python",
   "name": "python3"
  },
  "language_info": {
   "codemirror_mode": {
    "name": "ipython",
    "version": 3
   },
   "file_extension": ".py",
   "mimetype": "text/x-python",
   "name": "python",
   "nbconvert_exporter": "python",
   "pygments_lexer": "ipython3",
   "version": "3.7.7"
  }
 },
 "nbformat": 4,
 "nbformat_minor": 4
}
